{
 "cells": [
  {
   "cell_type": "markdown",
   "id": "5d73cae5-5901-451c-9a64-aa911fbfc975",
   "metadata": {},
   "source": [
    "# Calculate the number of unique experiments, participants, and foci"
   ]
  },
  {
   "cell_type": "code",
   "execution_count": 5,
   "id": "4b734cbc-7e8c-431f-accc-688ea8417539",
   "metadata": {},
   "outputs": [],
   "source": [
    "import os\n",
    "import sys\n",
    "\n",
    "# Imports\n",
    "from pathlib import Path\n",
    "import nibabel as nib\n",
    "import nilearn.reporting\n",
    "import pandas as pd\n",
    "import nimare\n",
    "import numpy as np\n",
    "import SUITPy\n",
    "\n",
    "# User-specified base working directory\n",
    "BASE_DIR = '/data/project/cerebellum_ale/'  # Change this to your project folder. Make sure they have input and output folders.\n",
    "\n",
    "# Defines input and output paths.\n",
    "INPUT_DIR = os.path.join(BASE_DIR, 'input')\n",
    "OUTPUT_DIR = os.path.join(BASE_DIR, 'output')\n",
    "\n",
    "sys.path.append(os.path.join(BASE_DIR, 'scripts'))"
   ]
  },
  {
   "cell_type": "code",
   "execution_count": 6,
   "id": "df6e8b88-0efd-44fc-9606-bc606009555e",
   "metadata": {},
   "outputs": [
    {
     "name": "stdout",
     "output_type": "stream",
     "text": [
      "                     subbd  n_exp  n_foci  n_subs\n",
      "0                   Action    259    1280    3536\n",
      "1         Action.Execution    198    1033    2544\n",
      "2  Action.Execution.Speech     47     213     627\n",
      "3       Action.Imagination     18      55     233\n",
      "4        Action.Inhibition     36      87     588\n"
     ]
    }
   ],
   "source": [
    "# Load the CSV data\n",
    "exp_stats_CSALE = pd.read_csv(os.path.join(OUTPUT_DIR, 'exp_stats_from_json_240814.csv'))\n",
    "\n",
    "# Optional: If needed, preview the loaded data\n",
    "print(exp_stats_CSALE.head())"
   ]
  },
  {
   "cell_type": "code",
   "execution_count": 7,
   "id": "3a95ca1a-f00d-416f-ad6d-1f26b2f28692",
   "metadata": {
    "scrolled": true
   },
   "outputs": [
    {
     "data": {
      "text/plain": [
       "['Action',\n",
       " 'Action.Execution',\n",
       " 'Action.Execution.Speech',\n",
       " 'Action.Imagination',\n",
       " 'Action.Inhibition',\n",
       " 'Action.Observation',\n",
       " 'Cognition',\n",
       " 'Cognition.Attention',\n",
       " 'Cognition.Language',\n",
       " 'Cognition.Language.Orthography',\n",
       " 'Cognition.Language.Phonology',\n",
       " 'Cognition.Language.Semantics',\n",
       " 'Cognition.Language.Speech',\n",
       " 'Cognition.Memory',\n",
       " 'Cognition.Memory.Explicit',\n",
       " 'Cognition.Memory.Working',\n",
       " 'Cognition.Music',\n",
       " 'Cognition.Reasoning',\n",
       " 'Cognition.SocialCognition',\n",
       " 'Cognition.Spatial',\n",
       " 'Emotion',\n",
       " 'Emotion.Negative',\n",
       " 'Emotion.Negative.Anger',\n",
       " 'Emotion.Negative.Disgust',\n",
       " 'Emotion.Negative.Fear',\n",
       " 'Emotion.Negative.Sadness',\n",
       " 'Emotion.Positive',\n",
       " 'Emotion.Positive.Happiness',\n",
       " 'Emotion.Positive.RewardGain',\n",
       " 'Interoception',\n",
       " 'Interoception.Sexuality',\n",
       " 'Perception',\n",
       " 'Perception.Audition',\n",
       " 'Perception.Olfaction',\n",
       " 'Perception.Somesthesis',\n",
       " 'Perception.Somesthesis.Pain',\n",
       " 'Perception.Vision',\n",
       " 'Perception.Vision.Color',\n",
       " 'Perception.Vision.Motion',\n",
       " 'Perception.Vision.Shape']"
      ]
     },
     "execution_count": 7,
     "metadata": {},
     "output_type": "execute_result"
    }
   ],
   "source": [
    "# Extract the labels directly from the exp_stats_df -> this is just a simply lifehack for extracting the BD/ subdomain names.\n",
    "combined_labels = exp_stats_CSALE['subbd'].tolist()\n",
    "combined_labels"
   ]
  },
  {
   "cell_type": "code",
   "execution_count": 8,
   "id": "b0d14dd6-2acb-4195-a4b6-1a393da59976",
   "metadata": {},
   "outputs": [],
   "source": [
    "domains = ['Action', 'Cognition', 'Emotion', 'Perception', 'Interoception']"
   ]
  },
  {
   "cell_type": "code",
   "execution_count": 9,
   "id": "d286d7c4-6d30-4cf2-8e94-061fe46f1721",
   "metadata": {},
   "outputs": [],
   "source": [
    "# Initialize sets and counters\n",
    "unique_experiments = set()\n",
    "unique_foci = set()\n",
    "total_participants = 0\n",
    "\n",
    "# Function to load NiMARE datasets, and extract unqieu studies, sum up the number of participants, and find the number of coordinates\n",
    "def process_dataset(dset_path):\n",
    "    global total_participants\n",
    "    if os.path.exists(dset_path):\n",
    "        # Load the dataset\n",
    "        ds = nimare.dataset.Dataset.load(dset_path)\n",
    "        \n",
    "        # Extract and update unique experiments (using 'study_id' and 'contrast_id')\n",
    "        experiments = zip(ds.metadata['study_id'], ds.metadata['contrast_id'])\n",
    "        unique_experiments.update(experiments)\n",
    "        \n",
    "        # Flatten the sample sizes and sum them (ensure they are integers)\n",
    "        flattened_sample_sizes = [int(size) for sublist in ds.metadata['sample_sizes'] for size in sublist]\n",
    "        total_participants += sum(flattened_sample_sizes)\n",
    "        \n",
    "        # Add unique foci (coordinates)\n",
    "        unique_foci.update(map(tuple, ds.coordinates[['x', 'y', 'z']].drop_duplicates().values))\n"
   ]
  },
  {
   "cell_type": "code",
   "execution_count": 10,
   "id": "8e71c409-9953-4383-ba0c-de154389b5ce",
   "metadata": {},
   "outputs": [
    {
     "name": "stdout",
     "output_type": "stream",
     "text": [
      "Unique Experiments: 1129\n",
      "Total Participants: 63350\n",
      "Unique Foci: 4248\n"
     ]
    }
   ],
   "source": [
    "# Loop through each label in combined_labels\n",
    "for label in combined_labels:\n",
    "    domain = label.split('.')[0]  # Extract the domain from the label, splitting at the first period within the name.\n",
    "    \n",
    "    # Construct the path for each dataset\n",
    "    dset_path = os.path.join(OUTPUT_DIR, f'data/{domain}/{label}/dset.pkl.gz')\n",
    "    \n",
    "    # Process the dataset\n",
    "    process_dataset(dset_path)\n",
    "\n",
    "# Number of unique experiments, participants, and foci\n",
    "num_unique_experiments = len(unique_experiments)\n",
    "num_unique_foci = len(unique_foci)\n",
    "\n",
    "print(f\"Unique Experiments: {num_unique_experiments}\")\n",
    "print(f\"Total Participants: {total_participants}\")\n",
    "print(f\"Unique Foci: {num_unique_foci}\")\n"
   ]
  },
  {
   "cell_type": "raw",
   "id": "ee076697-6abf-4fe5-a6e2-274ee4eeb0bc",
   "metadata": {},
   "source": [
    "See if this does the same as get_null_xyz"
   ]
  },
  {
   "cell_type": "code",
   "execution_count": 11,
   "id": "b2eb9457-b876-4218-9e69-f5079d3d0516",
   "metadata": {},
   "outputs": [],
   "source": [
    "sys.path.append(os.path.join(BASE_DIR, 'scripts'))\n",
    "from utils import get_null_xyz"
   ]
  },
  {
   "cell_type": "code",
   "execution_count": 14,
   "id": "19d983db-006b-48ce-8ff3-f1347a119956",
   "metadata": {},
   "outputs": [],
   "source": [
    "null_xyz = get_null_xyz(null_dset_path=os.path.join(OUTPUT_DIR, 'data/BrainMap_dump_Feb2024_mask-D2009_MNI_dilated-6mm.pkl.gz'), mask_path=os.path.join(INPUT_DIR, 'maps/Grey10.nii.gz'), unique = False)"
   ]
  },
  {
   "cell_type": "code",
   "execution_count": 15,
   "id": "0e010b5b-2a1d-40e0-a022-ab418e6b89ee",
   "metadata": {},
   "outputs": [
    {
     "name": "stdout",
     "output_type": "stream",
     "text": [
      "(62491, 3)\n"
     ]
    }
   ],
   "source": [
    "print(null_xyz.shape) # it appears some of the coordinates (<1000) fall outside of the Grey10 mask."
   ]
  },
  {
   "cell_type": "raw",
   "id": "339b1332-91fa-4172-b566-43eda97ac8bb",
   "metadata": {},
   "source": [
    "Now, let's restrict these to the cerebellar mask."
   ]
  },
  {
   "cell_type": "code",
   "execution_count": 26,
   "id": "6518089e-0bbe-4533-a1ca-235a7ce0c206",
   "metadata": {},
   "outputs": [],
   "source": [
    "null_xyz = get_null_xyz(null_dset_path=os.path.join(OUTPUT_DIR, 'data/BrainMap_dump_Feb2024_mask-D2009_MNI_dilated-6mm.pkl.gz'), mask_path=os.path.join(INPUT_DIR, 'maps/D2009_MNI.nii.gz'), unique = False)"
   ]
  },
  {
   "cell_type": "code",
   "execution_count": 27,
   "id": "218b0075-f6a3-4b0f-bf9f-a40b4afe2d97",
   "metadata": {},
   "outputs": [
    {
     "name": "stdout",
     "output_type": "stream",
     "text": [
      "(3118, 3)\n"
     ]
    }
   ],
   "source": [
    "print(null_xyz.shape)"
   ]
  },
  {
   "cell_type": "code",
   "execution_count": 28,
   "id": "00cf63f9-4a82-426e-81d9-7ca3b3751686",
   "metadata": {},
   "outputs": [
    {
     "name": "stdout",
     "output_type": "stream",
     "text": [
      "Number of unique coordinates: 2773\n"
     ]
    }
   ],
   "source": [
    "# Find unique coordinates\n",
    "unique_null_xyz = np.unique(null_xyz, axis=0)\n",
    "\n",
    "# Number of unique coordinates\n",
    "num_unique_coords = unique_null_xyz.shape[0]\n",
    "\n",
    "print(f\"Number of unique coordinates: {num_unique_coords}\")"
   ]
  },
  {
   "cell_type": "code",
   "execution_count": 52,
   "id": "bd9d07ca-be60-4874-b593-38e9efe9f735",
   "metadata": {},
   "outputs": [],
   "source": [
    "# Plot the coordinates onto the cerebellar flatmap"
   ]
  },
  {
   "cell_type": "code",
   "execution_count": 29,
   "id": "af76d669-0908-4e31-bf3c-09fdee8f3c93",
   "metadata": {},
   "outputs": [
    {
     "data": {
      "text/plain": [
       "<AxesSubplot: >"
      ]
     },
     "execution_count": 29,
     "metadata": {},
     "output_type": "execute_result"
    },
    {
     "data": {
      "image/png": "[encoded data removed]",
      "text/plain": [
       "<Figure size 700x700 with 1 Axes>"
      ]
     },
     "metadata": {},
     "output_type": "display_data"
    }
   ],
   "source": [
    "mni_temp = nilearn.datasets.load_mni152_template(resolution=1)\n",
    "null_ijk = nib.affines.apply_affine(np.linalg.inv(mni_temp.affine), null_xyz).astype('int')\n",
    "foci_img_data = np.zeros(mni_temp.shape)\n",
    "foci_img_data[null_ijk[:,0], null_ijk[:, 1], null_ijk[:, 2]] = 1\n",
    "\n",
    "# Dilate the foci to make them appear larger\n",
    "# foci_img_data = binary_dilation(foci_img_data, iterations=1)  # Increase iterations to enlarge further\n",
    "foci_img = nilearn.image.new_img_like(mni_temp, foci_img_data)\n",
    "flat_img = SUITPy.vol_to_surf(foci_img, space='SPM')\n",
    "\n",
    "\n",
    "SUITPy.flatmap.plot(flat_img, cmap = 'Reds')\n",
    "    \n",
    "# Save the figure to a file\n",
    "# output_path = os.path.join(BASE_DIR, 'Figures/Publication/Graphical_abstract/foci_distribution_flatmap.png')\n",
    "#plt.gcf().savefig(output_path, bbox_inches='tight', transparent=True)\n",
    "\n",
    "# Close the display to avoid displaying it in interactive environments\n",
    "# plt.close(fig)"
   ]
  },
  {
   "cell_type": "markdown",
   "id": "3239cc91-b0a8-402e-9ad6-9011aacf4f1c",
   "metadata": {},
   "source": [
    "# Number of experiments is straightforward"
   ]
  },
  {
   "cell_type": "code",
   "execution_count": 16,
   "id": "fde8f156-3c81-4e6e-9cf4-a9edfc345fee",
   "metadata": {},
   "outputs": [],
   "source": [
    "dset = nimare.dataset.Dataset.load(os.path.join(OUTPUT_DIR, 'data/BrainMap_dump_Feb2024_mask-D2009_MNI_dilated-6mm.pkl.gz'))"
   ]
  },
  {
   "cell_type": "code",
   "execution_count": 17,
   "id": "4248751f-5c83-4e86-aa6d-ef45d8410b4d",
   "metadata": {},
   "outputs": [
    {
     "data": {
      "text/plain": [
       "Dataset(2415 experiments, space='mni152_2mm')"
      ]
     },
     "execution_count": 17,
     "metadata": {},
     "output_type": "execute_result"
    }
   ],
   "source": [
    "dset"
   ]
  },
  {
   "cell_type": "code",
   "execution_count": 18,
   "id": "3399d580-5c7e-40aa-a0f0-fd2cfb95d59c",
   "metadata": {},
   "outputs": [
    {
     "data": {
      "text/plain": [
       "41084    10010001\n",
       "41082    10010001\n",
       "41110    10010004\n",
       "41115    10010004\n",
       "41136    10020011\n",
       "           ...   \n",
       "40835     9110179\n",
       "40836     9110179\n",
       "40832     9110179\n",
       "41000     9110182\n",
       "40959     9110182\n",
       "Name: study_id, Length: 4783, dtype: object"
      ]
     },
     "execution_count": 18,
     "metadata": {},
     "output_type": "execute_result"
    }
   ],
   "source": [
    "dset.coordinates['study_id']"
   ]
  },
  {
   "cell_type": "code",
   "execution_count": 44,
   "id": "b0368927-0e26-4cfd-8760-86fd87d9f865",
   "metadata": {},
   "outputs": [
    {
     "name": "stdout",
     "output_type": "stream",
     "text": [
      "Number of unique study IDs: 1129\n"
     ]
    }
   ],
   "source": [
    "# Assuming dset.coordinates is a pandas DataFrame\n",
    "unique_study_ids = dset.coordinates['study_id'].nunique()\n",
    "\n",
    "print(f\"Number of unique study IDs: {unique_study_ids}\")"
   ]
  },
  {
   "cell_type": "markdown",
   "id": "984da4e3-77c5-439c-88b5-e735153e52ef",
   "metadata": {},
   "source": [
    "# For participants, we keep unique study_ids and then sum the participants."
   ]
  },
  {
   "cell_type": "code",
   "execution_count": 48,
   "id": "4c098c63-b731-460a-a5aa-05ae69ee4fe0",
   "metadata": {},
   "outputs": [],
   "source": [
    "metadata_merged = pd.DataFrame(columns=dset.metadata.columns[:6])\n",
    "for i, (study_id, study_metadata) in enumerate(dset.metadata.groupby('study_id')):\n",
    "    metadata_merged.loc[i, :] = {\n",
    "        'id': f'{study_id}-0',\n",
    "        'study_id': study_id,\n",
    "        'contrast_id': 0,\n",
    "        'sample_sizes': [int(study_metadata['sample_sizes'].apply(lambda c: c[0]).mean().round())],\n",
    "        'author': study_metadata.iloc[0].loc['author'],\n",
    "        'year': study_metadata.iloc[0].loc['year']\n",
    "    }"
   ]
  },
  {
   "cell_type": "code",
   "execution_count": 49,
   "id": "71ef1330-2d6d-4c81-bd5b-1b406b50d68a",
   "metadata": {},
   "outputs": [
    {
     "data": {
      "text/html": [
       "<div>\n",
       "<style scoped>\n",
       "    .dataframe tbody tr th:only-of-type {\n",
       "        vertical-align: middle;\n",
       "    }\n",
       "\n",
       "    .dataframe tbody tr th {\n",
       "        vertical-align: top;\n",
       "    }\n",
       "\n",
       "    .dataframe thead th {\n",
       "        text-align: right;\n",
       "    }\n",
       "</style>\n",
       "<table border=\"1\" class=\"dataframe\">\n",
       "  <thead>\n",
       "    <tr style=\"text-align: right;\">\n",
       "      <th></th>\n",
       "      <th>id</th>\n",
       "      <th>study_id</th>\n",
       "      <th>contrast_id</th>\n",
       "      <th>sample_sizes</th>\n",
       "      <th>author</th>\n",
       "      <th>year</th>\n",
       "    </tr>\n",
       "  </thead>\n",
       "  <tbody>\n",
       "    <tr>\n",
       "      <th>0</th>\n",
       "      <td>30001-0</td>\n",
       "      <td>30001</td>\n",
       "      <td>0</td>\n",
       "      <td>[12]</td>\n",
       "      <td>Anderson N D</td>\n",
       "      <td>2000</td>\n",
       "    </tr>\n",
       "    <tr>\n",
       "      <th>1</th>\n",
       "      <td>30002-0</td>\n",
       "      <td>30002</td>\n",
       "      <td>0</td>\n",
       "      <td>[12]</td>\n",
       "      <td>Arrington C M</td>\n",
       "      <td>2000</td>\n",
       "    </tr>\n",
       "    <tr>\n",
       "      <th>2</th>\n",
       "      <td>30004-0</td>\n",
       "      <td>30004</td>\n",
       "      <td>0</td>\n",
       "      <td>[8]</td>\n",
       "      <td>Beason-Held L L</td>\n",
       "      <td>1998</td>\n",
       "    </tr>\n",
       "    <tr>\n",
       "      <th>3</th>\n",
       "      <td>30008-0</td>\n",
       "      <td>30008</td>\n",
       "      <td>0</td>\n",
       "      <td>[9]</td>\n",
       "      <td>Buckner R L</td>\n",
       "      <td>2000</td>\n",
       "    </tr>\n",
       "    <tr>\n",
       "      <th>4</th>\n",
       "      <td>30011-0</td>\n",
       "      <td>30011</td>\n",
       "      <td>0</td>\n",
       "      <td>[20]</td>\n",
       "      <td>Cabeza R</td>\n",
       "      <td>2002</td>\n",
       "    </tr>\n",
       "    <tr>\n",
       "      <th>...</th>\n",
       "      <td>...</td>\n",
       "      <td>...</td>\n",
       "      <td>...</td>\n",
       "      <td>...</td>\n",
       "      <td>...</td>\n",
       "      <td>...</td>\n",
       "    </tr>\n",
       "    <tr>\n",
       "      <th>1124</th>\n",
       "      <td>60100173-0</td>\n",
       "      <td>60100173</td>\n",
       "      <td>0</td>\n",
       "      <td>[8]</td>\n",
       "      <td>Larsson J</td>\n",
       "      <td>1996</td>\n",
       "    </tr>\n",
       "    <tr>\n",
       "      <th>1125</th>\n",
       "      <td>60100174-0</td>\n",
       "      <td>60100174</td>\n",
       "      <td>0</td>\n",
       "      <td>[10]</td>\n",
       "      <td>Lutz K</td>\n",
       "      <td>2000</td>\n",
       "    </tr>\n",
       "    <tr>\n",
       "      <th>1126</th>\n",
       "      <td>60100175-0</td>\n",
       "      <td>60100175</td>\n",
       "      <td>0</td>\n",
       "      <td>[8]</td>\n",
       "      <td>Mattay V S</td>\n",
       "      <td>1998</td>\n",
       "    </tr>\n",
       "    <tr>\n",
       "      <th>1127</th>\n",
       "      <td>60100178-0</td>\n",
       "      <td>60100178</td>\n",
       "      <td>0</td>\n",
       "      <td>[10]</td>\n",
       "      <td>Riecker A</td>\n",
       "      <td>2006</td>\n",
       "    </tr>\n",
       "    <tr>\n",
       "      <th>1128</th>\n",
       "      <td>60100179-0</td>\n",
       "      <td>60100179</td>\n",
       "      <td>0</td>\n",
       "      <td>[10]</td>\n",
       "      <td>Sperling R A</td>\n",
       "      <td>2003</td>\n",
       "    </tr>\n",
       "  </tbody>\n",
       "</table>\n",
       "<p>1129 rows × 6 columns</p>\n",
       "</div>"
      ],
      "text/plain": [
       "              id  study_id contrast_id sample_sizes           author  year\n",
       "0        30001-0     30001           0         [12]     Anderson N D  2000\n",
       "1        30002-0     30002           0         [12]    Arrington C M  2000\n",
       "2        30004-0     30004           0          [8]  Beason-Held L L  1998\n",
       "3        30008-0     30008           0          [9]      Buckner R L  2000\n",
       "4        30011-0     30011           0         [20]         Cabeza R  2002\n",
       "...          ...       ...         ...          ...              ...   ...\n",
       "1124  60100173-0  60100173           0          [8]        Larsson J  1996\n",
       "1125  60100174-0  60100174           0         [10]           Lutz K  2000\n",
       "1126  60100175-0  60100175           0          [8]       Mattay V S  1998\n",
       "1127  60100178-0  60100178           0         [10]        Riecker A  2006\n",
       "1128  60100179-0  60100179           0         [10]     Sperling R A  2003\n",
       "\n",
       "[1129 rows x 6 columns]"
      ]
     },
     "execution_count": 49,
     "metadata": {},
     "output_type": "execute_result"
    }
   ],
   "source": [
    "metadata_merged"
   ]
  },
  {
   "cell_type": "code",
   "execution_count": 52,
   "id": "f71fdd24-fdf6-4f98-80e4-8c7f60b8984c",
   "metadata": {},
   "outputs": [
    {
     "name": "stdout",
     "output_type": "stream",
     "text": [
      "  study_id sample_sizes\n",
      "0    30001         [12]\n",
      "1    30002         [12]\n",
      "2    30004          [8]\n",
      "3    30008          [9]\n",
      "4    30011         [20]\n"
     ]
    }
   ],
   "source": [
    "# Group by 'study_id' and sum the sample_size for each group\n",
    "unique_study_metadata = metadata_merged.groupby('study_id', as_index=False).agg({\n",
    "    'sample_sizes': 'sum',\n",
    "    # You can add more columns here if needed, using appropriate aggregation functions\n",
    "})\n",
    "\n",
    "# Now, unique_study_metadata contains the unique study_ids with the summed sample_size\n",
    "print(unique_study_metadata.head())  # Display the first few rows of the new DataFrame"
   ]
  },
  {
   "cell_type": "code",
   "execution_count": 54,
   "id": "79450f4c-7c2a-4aec-8eaf-ee980201686c",
   "metadata": {},
   "outputs": [
    {
     "name": "stdout",
     "output_type": "stream",
     "text": [
      "Total summed sample size: 16410\n"
     ]
    }
   ],
   "source": [
    "total_sample_size = metadata_merged['sample_sizes'].apply(sum).sum()\n",
    "\n",
    "print(f\"Total summed sample size: {total_sample_size}\")"
   ]
  },
  {
   "cell_type": "raw",
   "id": "91ee2a90-56b4-4274-8a3c-871bb128f986",
   "metadata": {},
   "source": [
    "That's it, 1129 unique studies, 16,410 participants, 3118 coordinates (2773 of which are unique)"
   ]
  },
  {
   "cell_type": "markdown",
   "id": "0dfdc75c-1a06-4753-b84a-231b1774f82a",
   "metadata": {},
   "source": [
    "# Let's also quickly check the number of experiments, participants, and foci from which the whole-brain probability distribution is made.\n",
    "## We already know the number of foci from above: 62,491 (we allow duplicates in the construction of the probabilistic null space)."
   ]
  },
  {
   "cell_type": "code",
   "execution_count": 19,
   "id": "244e57f6-7c49-487b-90fd-9a77a2492e6b",
   "metadata": {},
   "outputs": [],
   "source": [
    "dset_full = nimare.dataset.Dataset.load(os.path.join(OUTPUT_DIR, 'data/BrainMap_dump_Feb2024_mask-Grey10.pkl.gz'))"
   ]
  },
  {
   "cell_type": "code",
   "execution_count": 20,
   "id": "82a400c7-2983-438a-b708-732e6d2779fa",
   "metadata": {},
   "outputs": [
    {
     "data": {
      "text/plain": [
       "Dataset(8264 experiments, space='mni152_2mm')"
      ]
     },
     "execution_count": 20,
     "metadata": {},
     "output_type": "execute_result"
    }
   ],
   "source": [
    "dset_full"
   ]
  },
  {
   "cell_type": "code",
   "execution_count": 21,
   "id": "f12a9036-68c6-4ff0-940d-61b4a250e92b",
   "metadata": {},
   "outputs": [
    {
     "data": {
      "text/plain": [
       "41067    10010001\n",
       "41068    10010001\n",
       "41065    10010001\n",
       "41064    10010001\n",
       "41066    10010001\n",
       "           ...   \n",
       "41058     9120184\n",
       "41060     9120184\n",
       "41056     9120184\n",
       "41057     9120184\n",
       "41059     9120184\n",
       "Name: study_id, Length: 62491, dtype: object"
      ]
     },
     "execution_count": 21,
     "metadata": {},
     "output_type": "execute_result"
    }
   ],
   "source": [
    "dset_full.coordinates['study_id']"
   ]
  },
  {
   "cell_type": "code",
   "execution_count": 22,
   "id": "6a8aefad-dbf4-468b-b69a-8419bca147a8",
   "metadata": {},
   "outputs": [],
   "source": [
    "metadata_merged_full = pd.DataFrame(columns=dset_full.metadata.columns[:6])\n",
    "for i, (study_id, study_metadata) in enumerate(dset_full.metadata.groupby('study_id')):\n",
    "    metadata_merged_full.loc[i, :] = {\n",
    "        'id': f'{study_id}-0',\n",
    "        'study_id': study_id,\n",
    "        'contrast_id': 0,\n",
    "        'sample_sizes': [int(study_metadata['sample_sizes'].apply(lambda c: c[0]).mean().round())],\n",
    "        'author': study_metadata.iloc[0].loc['author'],\n",
    "        'year': study_metadata.iloc[0].loc['year']\n",
    "    }"
   ]
  },
  {
   "cell_type": "code",
   "execution_count": 23,
   "id": "92881371-7ce5-49f1-90af-92c93539539c",
   "metadata": {},
   "outputs": [
    {
     "data": {
      "text/html": [
       "<div>\n",
       "<style scoped>\n",
       "    .dataframe tbody tr th:only-of-type {\n",
       "        vertical-align: middle;\n",
       "    }\n",
       "\n",
       "    .dataframe tbody tr th {\n",
       "        vertical-align: top;\n",
       "    }\n",
       "\n",
       "    .dataframe thead th {\n",
       "        text-align: right;\n",
       "    }\n",
       "</style>\n",
       "<table border=\"1\" class=\"dataframe\">\n",
       "  <thead>\n",
       "    <tr style=\"text-align: right;\">\n",
       "      <th></th>\n",
       "      <th>id</th>\n",
       "      <th>study_id</th>\n",
       "      <th>contrast_id</th>\n",
       "      <th>sample_sizes</th>\n",
       "      <th>author</th>\n",
       "      <th>year</th>\n",
       "    </tr>\n",
       "  </thead>\n",
       "  <tbody>\n",
       "    <tr>\n",
       "      <th>0</th>\n",
       "      <td>30001-0</td>\n",
       "      <td>30001</td>\n",
       "      <td>0</td>\n",
       "      <td>[12]</td>\n",
       "      <td>Anderson N D</td>\n",
       "      <td>2000</td>\n",
       "    </tr>\n",
       "    <tr>\n",
       "      <th>1</th>\n",
       "      <td>30002-0</td>\n",
       "      <td>30002</td>\n",
       "      <td>0</td>\n",
       "      <td>[12]</td>\n",
       "      <td>Arrington C M</td>\n",
       "      <td>2000</td>\n",
       "    </tr>\n",
       "    <tr>\n",
       "      <th>2</th>\n",
       "      <td>30004-0</td>\n",
       "      <td>30004</td>\n",
       "      <td>0</td>\n",
       "      <td>[8]</td>\n",
       "      <td>Beason-Held L L</td>\n",
       "      <td>1998</td>\n",
       "    </tr>\n",
       "    <tr>\n",
       "      <th>3</th>\n",
       "      <td>30005-0</td>\n",
       "      <td>30005</td>\n",
       "      <td>0</td>\n",
       "      <td>[13]</td>\n",
       "      <td>Beauregard M</td>\n",
       "      <td>1998</td>\n",
       "    </tr>\n",
       "    <tr>\n",
       "      <th>4</th>\n",
       "      <td>30006-0</td>\n",
       "      <td>30006</td>\n",
       "      <td>0</td>\n",
       "      <td>[12]</td>\n",
       "      <td>Binder J R</td>\n",
       "      <td>1996</td>\n",
       "    </tr>\n",
       "    <tr>\n",
       "      <th>...</th>\n",
       "      <td>...</td>\n",
       "      <td>...</td>\n",
       "      <td>...</td>\n",
       "      <td>...</td>\n",
       "      <td>...</td>\n",
       "      <td>...</td>\n",
       "    </tr>\n",
       "    <tr>\n",
       "      <th>2201</th>\n",
       "      <td>60100174-0</td>\n",
       "      <td>60100174</td>\n",
       "      <td>0</td>\n",
       "      <td>[10]</td>\n",
       "      <td>Lutz K</td>\n",
       "      <td>2000</td>\n",
       "    </tr>\n",
       "    <tr>\n",
       "      <th>2202</th>\n",
       "      <td>60100175-0</td>\n",
       "      <td>60100175</td>\n",
       "      <td>0</td>\n",
       "      <td>[8]</td>\n",
       "      <td>Mattay V S</td>\n",
       "      <td>1998</td>\n",
       "    </tr>\n",
       "    <tr>\n",
       "      <th>2203</th>\n",
       "      <td>60100176-0</td>\n",
       "      <td>60100176</td>\n",
       "      <td>0</td>\n",
       "      <td>[15]</td>\n",
       "      <td>Ongur D</td>\n",
       "      <td>2005</td>\n",
       "    </tr>\n",
       "    <tr>\n",
       "      <th>2204</th>\n",
       "      <td>60100178-0</td>\n",
       "      <td>60100178</td>\n",
       "      <td>0</td>\n",
       "      <td>[10]</td>\n",
       "      <td>Riecker A</td>\n",
       "      <td>2006</td>\n",
       "    </tr>\n",
       "    <tr>\n",
       "      <th>2205</th>\n",
       "      <td>60100179-0</td>\n",
       "      <td>60100179</td>\n",
       "      <td>0</td>\n",
       "      <td>[10]</td>\n",
       "      <td>Sperling R A</td>\n",
       "      <td>2003</td>\n",
       "    </tr>\n",
       "  </tbody>\n",
       "</table>\n",
       "<p>2206 rows × 6 columns</p>\n",
       "</div>"
      ],
      "text/plain": [
       "              id  study_id contrast_id sample_sizes           author  year\n",
       "0        30001-0     30001           0         [12]     Anderson N D  2000\n",
       "1        30002-0     30002           0         [12]    Arrington C M  2000\n",
       "2        30004-0     30004           0          [8]  Beason-Held L L  1998\n",
       "3        30005-0     30005           0         [13]     Beauregard M  1998\n",
       "4        30006-0     30006           0         [12]       Binder J R  1996\n",
       "...          ...       ...         ...          ...              ...   ...\n",
       "2201  60100174-0  60100174           0         [10]           Lutz K  2000\n",
       "2202  60100175-0  60100175           0          [8]       Mattay V S  1998\n",
       "2203  60100176-0  60100176           0         [15]          Ongur D  2005\n",
       "2204  60100178-0  60100178           0         [10]        Riecker A  2006\n",
       "2205  60100179-0  60100179           0         [10]     Sperling R A  2003\n",
       "\n",
       "[2206 rows x 6 columns]"
      ]
     },
     "execution_count": 23,
     "metadata": {},
     "output_type": "execute_result"
    }
   ],
   "source": [
    "metadata_merged_full"
   ]
  },
  {
   "cell_type": "code",
   "execution_count": 24,
   "id": "64cda40a-2029-49e3-84ec-0171851df3e2",
   "metadata": {},
   "outputs": [
    {
     "name": "stdout",
     "output_type": "stream",
     "text": [
      "Total summed sample size: 32485\n"
     ]
    }
   ],
   "source": [
    "total_sample_size_full = metadata_merged_full['sample_sizes'].apply(sum).sum()\n",
    "\n",
    "print(f\"Total summed sample size: {total_sample_size_full}\")"
   ]
  },
  {
   "cell_type": "markdown",
   "id": "58b38439-c7cf-4b78-bfd0-5f7980f0a400",
   "metadata": {},
   "source": [
    "# The End."
   ]
  }
 ],
 "metadata": {
  "kernelspec": {
   "display_name": "Python 3 (ipykernel)",
   "language": "python",
   "name": "python3"
  },
  "language_info": {
   "codemirror_mode": {
    "name": "ipython",
    "version": 3
   },
   "file_extension": ".py",
   "mimetype": "text/x-python",
   "name": "python",
   "nbconvert_exporter": "python",
   "pygments_lexer": "ipython3",
   "version": "3.11.4"
  }
 },
 "nbformat": 4,
 "nbformat_minor": 5
}
