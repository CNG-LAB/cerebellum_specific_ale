{
 "cells": [
  {
   "cell_type": "markdown",
   "id": "e3e78285-1efc-4f16-8d4d-87665b91ecf0",
   "metadata": {},
   "source": [
    "# Supplementary Tables 1 and 2: Summary Descriptive Tables of all Behavioural Domain and Subdomain Clusters.\n",
    "## For cerebellum-specfic ALE (C-SALE) and meta-analytic coactivation modeling (MACM).\n",
    "### Include foci counts, cluter sizes in mm3, and peak coordinates in MNI 2mm space. We also include number of participants and experiments.\n",
    "\n",
    "#### Author: Neville Magielse\n",
    "#### Date: 15.08.2024"
   ]
  },
  {
   "cell_type": "code",
   "execution_count": 1,
   "id": "71647f53-fb5d-47d8-a234-557c9dcc6ae8",
   "metadata": {},
   "outputs": [],
   "source": [
    "import os\n",
    "import sys\n",
    "\n",
    "# User-specified base working directory\n",
    "BASE_DIR = '/data/project/cerebellum_ale/'  # Change this to your project folder. Make sure they have input and output folders.\n",
    "\n",
    "# Defines input and output paths.\n",
    "INPUT_DIR = os.path.join(BASE_DIR, 'input')\n",
    "OUTPUT_DIR = os.path.join(BASE_DIR, 'output')\n",
    "\n",
    "sys.path.append(os.path.join(BASE_DIR, 'scripts'))"
   ]
  },
  {
   "cell_type": "code",
   "execution_count": 8,
   "id": "cd847871-4dbf-4ef9-82ca-4edc6ee43542",
   "metadata": {},
   "outputs": [],
   "source": [
    "# Imports\n",
    "from pathlib import Path\n",
    "import nibabel as nib\n",
    "import nilearn.reporting\n",
    "import pandas as pd"
   ]
  },
  {
   "cell_type": "code",
   "execution_count": 23,
   "id": "f6f40c28-5fc1-4bd7-9b35-aaa696e0f82b",
   "metadata": {},
   "outputs": [
    {
     "name": "stdout",
     "output_type": "stream",
     "text": [
      "                     subbd  n_exp  n_foci  n_subs\n",
      "0                   Action    259    1280    3536\n",
      "1         Action.Execution    198    1033    2544\n",
      "2  Action.Execution.Speech     47     213     627\n",
      "3       Action.Imagination     18      55     233\n",
      "4        Action.Inhibition     36      87     588\n"
     ]
    }
   ],
   "source": [
    "# Load the CSV data\n",
    "exp_stats_CSALE = pd.read_csv(os.path.join(OUTPUT_DIR, 'exp_stats_from_json_240814.csv'))\n",
    "\n",
    "# Optional: If needed, preview the loaded data\n",
    "print(exp_stats_CSALE.head())"
   ]
  },
  {
   "cell_type": "code",
   "execution_count": 34,
   "id": "07cf15f1-20bf-41a2-beb0-b5ecf0aa73bd",
   "metadata": {
    "scrolled": true
   },
   "outputs": [
    {
     "data": {
      "text/plain": [
       "['Action',\n",
       " 'Action.Execution',\n",
       " 'Action.Execution.Speech',\n",
       " 'Action.Imagination',\n",
       " 'Action.Inhibition',\n",
       " 'Action.Observation',\n",
       " 'Cognition',\n",
       " 'Cognition.Attention',\n",
       " 'Cognition.Language',\n",
       " 'Cognition.Language.Orthography',\n",
       " 'Cognition.Language.Phonology',\n",
       " 'Cognition.Language.Semantics',\n",
       " 'Cognition.Language.Speech',\n",
       " 'Cognition.Memory',\n",
       " 'Cognition.Memory.Explicit',\n",
       " 'Cognition.Memory.Working',\n",
       " 'Cognition.Music',\n",
       " 'Cognition.Reasoning',\n",
       " 'Cognition.SocialCognition',\n",
       " 'Cognition.Spatial',\n",
       " 'Emotion',\n",
       " 'Emotion.Negative',\n",
       " 'Emotion.Negative.Anger',\n",
       " 'Emotion.Negative.Disgust',\n",
       " 'Emotion.Negative.Fear',\n",
       " 'Emotion.Negative.Sadness',\n",
       " 'Emotion.Positive',\n",
       " 'Emotion.Positive.Happiness',\n",
       " 'Emotion.Positive.RewardGain',\n",
       " 'Interoception',\n",
       " 'Interoception.Sexuality',\n",
       " 'Perception',\n",
       " 'Perception.Audition',\n",
       " 'Perception.Olfaction',\n",
       " 'Perception.Somesthesis',\n",
       " 'Perception.Somesthesis.Pain',\n",
       " 'Perception.Vision',\n",
       " 'Perception.Vision.Color',\n",
       " 'Perception.Vision.Motion',\n",
       " 'Perception.Vision.Shape']"
      ]
     },
     "execution_count": 34,
     "metadata": {},
     "output_type": "execute_result"
    }
   ],
   "source": [
    "# Extract the labels directly from the exp_stats_df\n",
    "combined_labels = exp_stats_CSALE['subbd'].tolist()\n",
    "combined_labels"
   ]
  },
  {
   "cell_type": "code",
   "execution_count": 27,
   "id": "95456e27-1d5b-4d83-b1a6-10cb00a00500",
   "metadata": {},
   "outputs": [],
   "source": [
    "def load_and_extract_clusters(file_path, label, exp_stats_df):\n",
    "    # Load the NIfTI file\n",
    "    img = nib.load(file_path)\n",
    "    \n",
    "    # Extract clusters from the z-map\n",
    "    clusters = nilearn.reporting.get_clusters_table(img, stat_threshold=0.00, cluster_threshold=50)\n",
    "    \n",
    "    # Extract the key from the label (removing any additional text)\n",
    "    key = label.split(\": \")[1].strip()  # Extract the domain/subdomain from the label\n",
    "    \n",
    "    # Find the corresponding row in exp_stats_df using the subbd column\n",
    "    match_row = exp_stats_df[exp_stats_df['subbd'] == key]\n",
    "    \n",
    "    # Extract number of experiments and participants\n",
    "    if not match_row.empty:\n",
    "        n_exp = match_row['n_exp'].values[0]\n",
    "        n_foci = match_row['n_foci'].values[0]\n",
    "        n_subs = match_row['n_subs'].values[0]\n",
    "    else:\n",
    "        n_exp = 'N/A'\n",
    "        n_foci = 'N/A'\n",
    "        n_subs = 'N/A'\n",
    "    \n",
    "    # Add the experiments and participants info to the clusters table\n",
    "    clusters['Experiments'] = n_exp\n",
    "    clusters['Foci'] = n_foci\n",
    "    clusters['Participants'] = n_subs\n",
    "    \n",
    "    # Store the clusters table\n",
    "    clusters_table[label] = clusters\n",
    "    \n",
    "    # Save clusters to file\n",
    "    with open(RESULTS_FILE, 'a') as f:\n",
    "        f.write(f\"Results for {label}:\\n\")\n",
    "        clusters.to_csv(f, index=False)\n",
    "        f.write(\"\\n\\n\")\n",
    "\n"
   ]
  },
  {
   "cell_type": "markdown",
   "id": "3c3aeb63-d6ba-4fdb-99d1-8cbe7981c1b4",
   "metadata": {},
   "source": [
    "# Save the C-SALE Cluster Metadata to file."
   ]
  },
  {
   "cell_type": "code",
   "execution_count": 29,
   "id": "42a1b39f-4179-416a-9ff9-4b6648987ef8",
   "metadata": {
    "scrolled": true
   },
   "outputs": [
    {
     "name": "stderr",
     "output_type": "stream",
     "text": [
      "/data/project/cerebellum_ale/venv/lib/python3.11/site-packages/nilearn/reporting/_get_clusters_table.py:103: UserWarning: Attention: At least one of the (sub)peaks falls outside of the cluster body. Identifying the nearest in-cluster voxel.\n",
      "  warnings.warn(\n",
      "/data/project/cerebellum_ale/venv/lib/python3.11/site-packages/nilearn/reporting/_get_clusters_table.py:338: UserWarning: Attention: No clusters with stat higher than 0.0\n",
      "  warnings.warn(\n",
      "/data/project/cerebellum_ale/venv/lib/python3.11/site-packages/nilearn/reporting/_get_clusters_table.py:338: UserWarning: Attention: No clusters with stat higher than 0.0\n",
      "  warnings.warn(\n",
      "/data/project/cerebellum_ale/venv/lib/python3.11/site-packages/nilearn/reporting/_get_clusters_table.py:338: UserWarning: Attention: No clusters with stat higher than 0.0\n",
      "  warnings.warn(\n",
      "/data/project/cerebellum_ale/venv/lib/python3.11/site-packages/nilearn/reporting/_get_clusters_table.py:338: UserWarning: Attention: No clusters with stat higher than 0.0\n",
      "  warnings.warn(\n",
      "/data/project/cerebellum_ale/venv/lib/python3.11/site-packages/nilearn/reporting/_get_clusters_table.py:103: UserWarning: Attention: At least one of the (sub)peaks falls outside of the cluster body. Identifying the nearest in-cluster voxel.\n",
      "  warnings.warn(\n",
      "/data/project/cerebellum_ale/venv/lib/python3.11/site-packages/nilearn/reporting/_get_clusters_table.py:103: UserWarning: Attention: At least one of the (sub)peaks falls outside of the cluster body. Identifying the nearest in-cluster voxel.\n",
      "  warnings.warn(\n",
      "/data/project/cerebellum_ale/venv/lib/python3.11/site-packages/nilearn/reporting/_get_clusters_table.py:338: UserWarning: Attention: No clusters with stat higher than 0.0\n",
      "  warnings.warn(\n",
      "/data/project/cerebellum_ale/venv/lib/python3.11/site-packages/nilearn/reporting/_get_clusters_table.py:338: UserWarning: Attention: No clusters with stat higher than 0.0\n",
      "  warnings.warn(\n"
     ]
    },
    {
     "name": "stdout",
     "output_type": "stream",
     "text": [
      "File not found for /data/project/cerebellum_ale/output/SALE/Action/Action.MotorLearning/corr_cluster_h-001_k-50_mask-D2009_MNI_z.nii.gz. Skipping...\n"
     ]
    },
    {
     "name": "stderr",
     "output_type": "stream",
     "text": [
      "/data/project/cerebellum_ale/venv/lib/python3.11/site-packages/nilearn/reporting/_get_clusters_table.py:103: UserWarning: Attention: At least one of the (sub)peaks falls outside of the cluster body. Identifying the nearest in-cluster voxel.\n",
      "  warnings.warn(\n"
     ]
    },
    {
     "name": "stdout",
     "output_type": "stream",
     "text": [
      "File not found for /data/project/cerebellum_ale/output/SALE/Action/Action.Preparation/corr_cluster_h-001_k-50_mask-D2009_MNI_z.nii.gz. Skipping...\n",
      "File not found for /data/project/cerebellum_ale/output/SALE/Action/Action.Attention/corr_cluster_h-001_k-50_mask-D2009_MNI_z.nii.gz. Skipping...\n",
      "File not found for /data/project/cerebellum_ale/output/SALE/Action/Action.Language/corr_cluster_h-001_k-50_mask-D2009_MNI_z.nii.gz. Skipping...\n",
      "File not found for /data/project/cerebellum_ale/output/SALE/Action/Action.Language.Orthography/corr_cluster_h-001_k-50_mask-D2009_MNI_z.nii.gz. Skipping...\n",
      "File not found for /data/project/cerebellum_ale/output/SALE/Action/Action.Language.Phonology/corr_cluster_h-001_k-50_mask-D2009_MNI_z.nii.gz. Skipping...\n",
      "File not found for /data/project/cerebellum_ale/output/SALE/Action/Action.Language.Semantics/corr_cluster_h-001_k-50_mask-D2009_MNI_z.nii.gz. Skipping...\n",
      "File not found for /data/project/cerebellum_ale/output/SALE/Action/Action.Language.Speech/corr_cluster_h-001_k-50_mask-D2009_MNI_z.nii.gz. Skipping...\n",
      "File not found for /data/project/cerebellum_ale/output/SALE/Action/Action.Language.Syntax/corr_cluster_h-001_k-50_mask-D2009_MNI_z.nii.gz. Skipping...\n",
      "File not found for /data/project/cerebellum_ale/output/SALE/Action/Action.Memory/corr_cluster_h-001_k-50_mask-D2009_MNI_z.nii.gz. Skipping...\n",
      "File not found for /data/project/cerebellum_ale/output/SALE/Action/Action.Memory.Explicit/corr_cluster_h-001_k-50_mask-D2009_MNI_z.nii.gz. Skipping...\n",
      "File not found for /data/project/cerebellum_ale/output/SALE/Action/Action.Memory.Working/corr_cluster_h-001_k-50_mask-D2009_MNI_z.nii.gz. Skipping...\n",
      "File not found for /data/project/cerebellum_ale/output/SALE/Action/Action.Music/corr_cluster_h-001_k-50_mask-D2009_MNI_z.nii.gz. Skipping...\n",
      "File not found for /data/project/cerebellum_ale/output/SALE/Action/Action.Reasoning/corr_cluster_h-001_k-50_mask-D2009_MNI_z.nii.gz. Skipping...\n",
      "File not found for /data/project/cerebellum_ale/output/SALE/Action/Action.SocialCognition/corr_cluster_h-001_k-50_mask-D2009_MNI_z.nii.gz. Skipping...\n",
      "File not found for /data/project/cerebellum_ale/output/SALE/Action/Action.Spatial/corr_cluster_h-001_k-50_mask-D2009_MNI_z.nii.gz. Skipping...\n",
      "File not found for /data/project/cerebellum_ale/output/SALE/Action/Action.Temporal/corr_cluster_h-001_k-50_mask-D2009_MNI_z.nii.gz. Skipping...\n",
      "File not found for /data/project/cerebellum_ale/output/SALE/Action/Action.Negative/corr_cluster_h-001_k-50_mask-D2009_MNI_z.nii.gz. Skipping...\n",
      "File not found for /data/project/cerebellum_ale/output/SALE/Action/Action.Negative.Anger/corr_cluster_h-001_k-50_mask-D2009_MNI_z.nii.gz. Skipping...\n",
      "File not found for /data/project/cerebellum_ale/output/SALE/Action/Action.Negative.Anxiety/corr_cluster_h-001_k-50_mask-D2009_MNI_z.nii.gz. Skipping...\n",
      "File not found for /data/project/cerebellum_ale/output/SALE/Action/Action.Negative.Disgust/corr_cluster_h-001_k-50_mask-D2009_MNI_z.nii.gz. Skipping...\n",
      "File not found for /data/project/cerebellum_ale/output/SALE/Action/Action.Negative.Fear/corr_cluster_h-001_k-50_mask-D2009_MNI_z.nii.gz. Skipping...\n",
      "File not found for /data/project/cerebellum_ale/output/SALE/Action/Action.Negative.Sadness/corr_cluster_h-001_k-50_mask-D2009_MNI_z.nii.gz. Skipping...\n",
      "File not found for /data/project/cerebellum_ale/output/SALE/Action/Action.Positive/corr_cluster_h-001_k-50_mask-D2009_MNI_z.nii.gz. Skipping...\n",
      "File not found for /data/project/cerebellum_ale/output/SALE/Action/Action.Positive.Happiness/corr_cluster_h-001_k-50_mask-D2009_MNI_z.nii.gz. Skipping...\n",
      "File not found for /data/project/cerebellum_ale/output/SALE/Action/Action.Positive.RewardGain/corr_cluster_h-001_k-50_mask-D2009_MNI_z.nii.gz. Skipping...\n",
      "File not found for /data/project/cerebellum_ale/output/SALE/Action/Action.Valence/corr_cluster_h-001_k-50_mask-D2009_MNI_z.nii.gz. Skipping...\n",
      "File not found for /data/project/cerebellum_ale/output/SALE/Action/Action.Hunger/corr_cluster_h-001_k-50_mask-D2009_MNI_z.nii.gz. Skipping...\n",
      "File not found for /data/project/cerebellum_ale/output/SALE/Action/Action.RespirationRegulation/corr_cluster_h-001_k-50_mask-D2009_MNI_z.nii.gz. Skipping...\n",
      "File not found for /data/project/cerebellum_ale/output/SALE/Action/Action.Sexuality/corr_cluster_h-001_k-50_mask-D2009_MNI_z.nii.gz. Skipping...\n",
      "File not found for /data/project/cerebellum_ale/output/SALE/Action/Action.Audition/corr_cluster_h-001_k-50_mask-D2009_MNI_z.nii.gz. Skipping...\n",
      "File not found for /data/project/cerebellum_ale/output/SALE/Action/Action.Gustation/corr_cluster_h-001_k-50_mask-D2009_MNI_z.nii.gz. Skipping...\n",
      "File not found for /data/project/cerebellum_ale/output/SALE/Action/Action.Olfaction/corr_cluster_h-001_k-50_mask-D2009_MNI_z.nii.gz. Skipping...\n",
      "File not found for /data/project/cerebellum_ale/output/SALE/Action/Action.Somesthesis/corr_cluster_h-001_k-50_mask-D2009_MNI_z.nii.gz. Skipping...\n",
      "File not found for /data/project/cerebellum_ale/output/SALE/Action/Action.Somesthesis.Pain/corr_cluster_h-001_k-50_mask-D2009_MNI_z.nii.gz. Skipping...\n",
      "File not found for /data/project/cerebellum_ale/output/SALE/Action/Action.Vision/corr_cluster_h-001_k-50_mask-D2009_MNI_z.nii.gz. Skipping...\n",
      "File not found for /data/project/cerebellum_ale/output/SALE/Action/Action.Vision.Color/corr_cluster_h-001_k-50_mask-D2009_MNI_z.nii.gz. Skipping...\n",
      "File not found for /data/project/cerebellum_ale/output/SALE/Action/Action.Vision.Motion/corr_cluster_h-001_k-50_mask-D2009_MNI_z.nii.gz. Skipping...\n",
      "File not found for /data/project/cerebellum_ale/output/SALE/Action/Action.Vision.Shape/corr_cluster_h-001_k-50_mask-D2009_MNI_z.nii.gz. Skipping...\n",
      "File not found for /data/project/cerebellum_ale/output/SALE/Cognition/Cognition.Execution/corr_cluster_h-001_k-50_mask-D2009_MNI_z.nii.gz. Skipping...\n",
      "File not found for /data/project/cerebellum_ale/output/SALE/Cognition/Cognition.Execution.Speech/corr_cluster_h-001_k-50_mask-D2009_MNI_z.nii.gz. Skipping...\n",
      "File not found for /data/project/cerebellum_ale/output/SALE/Cognition/Cognition.Imagination/corr_cluster_h-001_k-50_mask-D2009_MNI_z.nii.gz. Skipping...\n",
      "File not found for /data/project/cerebellum_ale/output/SALE/Cognition/Cognition.Inhibition/corr_cluster_h-001_k-50_mask-D2009_MNI_z.nii.gz. Skipping...\n",
      "File not found for /data/project/cerebellum_ale/output/SALE/Cognition/Cognition.MotorLearning/corr_cluster_h-001_k-50_mask-D2009_MNI_z.nii.gz. Skipping...\n",
      "File not found for /data/project/cerebellum_ale/output/SALE/Cognition/Cognition.Observation/corr_cluster_h-001_k-50_mask-D2009_MNI_z.nii.gz. Skipping...\n",
      "File not found for /data/project/cerebellum_ale/output/SALE/Cognition/Cognition.Preparation/corr_cluster_h-001_k-50_mask-D2009_MNI_z.nii.gz. Skipping...\n"
     ]
    },
    {
     "name": "stderr",
     "output_type": "stream",
     "text": [
      "/data/project/cerebellum_ale/venv/lib/python3.11/site-packages/nilearn/reporting/_get_clusters_table.py:338: UserWarning: Attention: No clusters with stat higher than 0.0\n",
      "  warnings.warn(\n",
      "/data/project/cerebellum_ale/venv/lib/python3.11/site-packages/nilearn/reporting/_get_clusters_table.py:338: UserWarning: Attention: No clusters with stat higher than 0.0\n",
      "  warnings.warn(\n",
      "/data/project/cerebellum_ale/venv/lib/python3.11/site-packages/nilearn/reporting/_get_clusters_table.py:338: UserWarning: Attention: No clusters with stat higher than 0.0\n",
      "  warnings.warn(\n",
      "/data/project/cerebellum_ale/venv/lib/python3.11/site-packages/nilearn/reporting/_get_clusters_table.py:338: UserWarning: Attention: No clusters with stat higher than 0.0\n",
      "  warnings.warn(\n",
      "/data/project/cerebellum_ale/venv/lib/python3.11/site-packages/nilearn/reporting/_get_clusters_table.py:338: UserWarning: Attention: No clusters with stat higher than 0.0\n",
      "  warnings.warn(\n"
     ]
    },
    {
     "name": "stdout",
     "output_type": "stream",
     "text": [
      "File not found for /data/project/cerebellum_ale/output/SALE/Cognition/Cognition.Language.Syntax/corr_cluster_h-001_k-50_mask-D2009_MNI_z.nii.gz. Skipping...\n"
     ]
    },
    {
     "name": "stderr",
     "output_type": "stream",
     "text": [
      "/data/project/cerebellum_ale/venv/lib/python3.11/site-packages/nilearn/reporting/_get_clusters_table.py:338: UserWarning: Attention: No clusters with stat higher than 0.0\n",
      "  warnings.warn(\n",
      "/data/project/cerebellum_ale/venv/lib/python3.11/site-packages/nilearn/reporting/_get_clusters_table.py:338: UserWarning: Attention: No clusters with stat higher than 0.0\n",
      "  warnings.warn(\n",
      "/data/project/cerebellum_ale/venv/lib/python3.11/site-packages/nilearn/reporting/_get_clusters_table.py:338: UserWarning: Attention: No clusters with stat higher than 0.0\n",
      "  warnings.warn(\n",
      "/data/project/cerebellum_ale/venv/lib/python3.11/site-packages/nilearn/reporting/_get_clusters_table.py:338: UserWarning: Attention: No clusters with stat higher than 0.0\n",
      "  warnings.warn(\n",
      "/data/project/cerebellum_ale/venv/lib/python3.11/site-packages/nilearn/reporting/_get_clusters_table.py:103: UserWarning: Attention: At least one of the (sub)peaks falls outside of the cluster body. Identifying the nearest in-cluster voxel.\n",
      "  warnings.warn(\n",
      "/data/project/cerebellum_ale/venv/lib/python3.11/site-packages/nilearn/reporting/_get_clusters_table.py:338: UserWarning: Attention: No clusters with stat higher than 0.0\n",
      "  warnings.warn(\n"
     ]
    },
    {
     "name": "stdout",
     "output_type": "stream",
     "text": [
      "File not found for /data/project/cerebellum_ale/output/SALE/Cognition/Cognition.Temporal/corr_cluster_h-001_k-50_mask-D2009_MNI_z.nii.gz. Skipping...\n",
      "File not found for /data/project/cerebellum_ale/output/SALE/Cognition/Cognition.Negative/corr_cluster_h-001_k-50_mask-D2009_MNI_z.nii.gz. Skipping...\n",
      "File not found for /data/project/cerebellum_ale/output/SALE/Cognition/Cognition.Negative.Anger/corr_cluster_h-001_k-50_mask-D2009_MNI_z.nii.gz. Skipping...\n",
      "File not found for /data/project/cerebellum_ale/output/SALE/Cognition/Cognition.Negative.Anxiety/corr_cluster_h-001_k-50_mask-D2009_MNI_z.nii.gz. Skipping...\n",
      "File not found for /data/project/cerebellum_ale/output/SALE/Cognition/Cognition.Negative.Disgust/corr_cluster_h-001_k-50_mask-D2009_MNI_z.nii.gz. Skipping...\n",
      "File not found for /data/project/cerebellum_ale/output/SALE/Cognition/Cognition.Negative.Fear/corr_cluster_h-001_k-50_mask-D2009_MNI_z.nii.gz. Skipping...\n",
      "File not found for /data/project/cerebellum_ale/output/SALE/Cognition/Cognition.Negative.Sadness/corr_cluster_h-001_k-50_mask-D2009_MNI_z.nii.gz. Skipping...\n",
      "File not found for /data/project/cerebellum_ale/output/SALE/Cognition/Cognition.Positive/corr_cluster_h-001_k-50_mask-D2009_MNI_z.nii.gz. Skipping...\n",
      "File not found for /data/project/cerebellum_ale/output/SALE/Cognition/Cognition.Positive.Happiness/corr_cluster_h-001_k-50_mask-D2009_MNI_z.nii.gz. Skipping...\n",
      "File not found for /data/project/cerebellum_ale/output/SALE/Cognition/Cognition.Positive.RewardGain/corr_cluster_h-001_k-50_mask-D2009_MNI_z.nii.gz. Skipping...\n",
      "File not found for /data/project/cerebellum_ale/output/SALE/Cognition/Cognition.Valence/corr_cluster_h-001_k-50_mask-D2009_MNI_z.nii.gz. Skipping...\n",
      "File not found for /data/project/cerebellum_ale/output/SALE/Cognition/Cognition.Hunger/corr_cluster_h-001_k-50_mask-D2009_MNI_z.nii.gz. Skipping...\n",
      "File not found for /data/project/cerebellum_ale/output/SALE/Cognition/Cognition.RespirationRegulation/corr_cluster_h-001_k-50_mask-D2009_MNI_z.nii.gz. Skipping...\n",
      "File not found for /data/project/cerebellum_ale/output/SALE/Cognition/Cognition.Sexuality/corr_cluster_h-001_k-50_mask-D2009_MNI_z.nii.gz. Skipping...\n",
      "File not found for /data/project/cerebellum_ale/output/SALE/Cognition/Cognition.Audition/corr_cluster_h-001_k-50_mask-D2009_MNI_z.nii.gz. Skipping...\n",
      "File not found for /data/project/cerebellum_ale/output/SALE/Cognition/Cognition.Gustation/corr_cluster_h-001_k-50_mask-D2009_MNI_z.nii.gz. Skipping...\n",
      "File not found for /data/project/cerebellum_ale/output/SALE/Cognition/Cognition.Olfaction/corr_cluster_h-001_k-50_mask-D2009_MNI_z.nii.gz. Skipping...\n",
      "File not found for /data/project/cerebellum_ale/output/SALE/Cognition/Cognition.Somesthesis/corr_cluster_h-001_k-50_mask-D2009_MNI_z.nii.gz. Skipping...\n",
      "File not found for /data/project/cerebellum_ale/output/SALE/Cognition/Cognition.Somesthesis.Pain/corr_cluster_h-001_k-50_mask-D2009_MNI_z.nii.gz. Skipping...\n",
      "File not found for /data/project/cerebellum_ale/output/SALE/Cognition/Cognition.Vision/corr_cluster_h-001_k-50_mask-D2009_MNI_z.nii.gz. Skipping...\n",
      "File not found for /data/project/cerebellum_ale/output/SALE/Cognition/Cognition.Vision.Color/corr_cluster_h-001_k-50_mask-D2009_MNI_z.nii.gz. Skipping...\n",
      "File not found for /data/project/cerebellum_ale/output/SALE/Cognition/Cognition.Vision.Motion/corr_cluster_h-001_k-50_mask-D2009_MNI_z.nii.gz. Skipping...\n",
      "File not found for /data/project/cerebellum_ale/output/SALE/Cognition/Cognition.Vision.Shape/corr_cluster_h-001_k-50_mask-D2009_MNI_z.nii.gz. Skipping...\n",
      "File not found for /data/project/cerebellum_ale/output/SALE/Emotion/Emotion.Execution/corr_cluster_h-001_k-50_mask-D2009_MNI_z.nii.gz. Skipping...\n",
      "File not found for /data/project/cerebellum_ale/output/SALE/Emotion/Emotion.Execution.Speech/corr_cluster_h-001_k-50_mask-D2009_MNI_z.nii.gz. Skipping...\n",
      "File not found for /data/project/cerebellum_ale/output/SALE/Emotion/Emotion.Imagination/corr_cluster_h-001_k-50_mask-D2009_MNI_z.nii.gz. Skipping...\n",
      "File not found for /data/project/cerebellum_ale/output/SALE/Emotion/Emotion.Inhibition/corr_cluster_h-001_k-50_mask-D2009_MNI_z.nii.gz. Skipping...\n",
      "File not found for /data/project/cerebellum_ale/output/SALE/Emotion/Emotion.MotorLearning/corr_cluster_h-001_k-50_mask-D2009_MNI_z.nii.gz. Skipping...\n",
      "File not found for /data/project/cerebellum_ale/output/SALE/Emotion/Emotion.Observation/corr_cluster_h-001_k-50_mask-D2009_MNI_z.nii.gz. Skipping...\n",
      "File not found for /data/project/cerebellum_ale/output/SALE/Emotion/Emotion.Preparation/corr_cluster_h-001_k-50_mask-D2009_MNI_z.nii.gz. Skipping...\n",
      "File not found for /data/project/cerebellum_ale/output/SALE/Emotion/Emotion.Attention/corr_cluster_h-001_k-50_mask-D2009_MNI_z.nii.gz. Skipping...\n",
      "File not found for /data/project/cerebellum_ale/output/SALE/Emotion/Emotion.Language/corr_cluster_h-001_k-50_mask-D2009_MNI_z.nii.gz. Skipping...\n",
      "File not found for /data/project/cerebellum_ale/output/SALE/Emotion/Emotion.Language.Orthography/corr_cluster_h-001_k-50_mask-D2009_MNI_z.nii.gz. Skipping...\n",
      "File not found for /data/project/cerebellum_ale/output/SALE/Emotion/Emotion.Language.Phonology/corr_cluster_h-001_k-50_mask-D2009_MNI_z.nii.gz. Skipping...\n",
      "File not found for /data/project/cerebellum_ale/output/SALE/Emotion/Emotion.Language.Semantics/corr_cluster_h-001_k-50_mask-D2009_MNI_z.nii.gz. Skipping...\n",
      "File not found for /data/project/cerebellum_ale/output/SALE/Emotion/Emotion.Language.Speech/corr_cluster_h-001_k-50_mask-D2009_MNI_z.nii.gz. Skipping...\n",
      "File not found for /data/project/cerebellum_ale/output/SALE/Emotion/Emotion.Language.Syntax/corr_cluster_h-001_k-50_mask-D2009_MNI_z.nii.gz. Skipping...\n",
      "File not found for /data/project/cerebellum_ale/output/SALE/Emotion/Emotion.Memory/corr_cluster_h-001_k-50_mask-D2009_MNI_z.nii.gz. Skipping...\n",
      "File not found for /data/project/cerebellum_ale/output/SALE/Emotion/Emotion.Memory.Explicit/corr_cluster_h-001_k-50_mask-D2009_MNI_z.nii.gz. Skipping...\n",
      "File not found for /data/project/cerebellum_ale/output/SALE/Emotion/Emotion.Memory.Working/corr_cluster_h-001_k-50_mask-D2009_MNI_z.nii.gz. Skipping...\n",
      "File not found for /data/project/cerebellum_ale/output/SALE/Emotion/Emotion.Music/corr_cluster_h-001_k-50_mask-D2009_MNI_z.nii.gz. Skipping...\n",
      "File not found for /data/project/cerebellum_ale/output/SALE/Emotion/Emotion.Reasoning/corr_cluster_h-001_k-50_mask-D2009_MNI_z.nii.gz. Skipping...\n",
      "File not found for /data/project/cerebellum_ale/output/SALE/Emotion/Emotion.SocialCognition/corr_cluster_h-001_k-50_mask-D2009_MNI_z.nii.gz. Skipping...\n",
      "File not found for /data/project/cerebellum_ale/output/SALE/Emotion/Emotion.Spatial/corr_cluster_h-001_k-50_mask-D2009_MNI_z.nii.gz. Skipping...\n",
      "File not found for /data/project/cerebellum_ale/output/SALE/Emotion/Emotion.Temporal/corr_cluster_h-001_k-50_mask-D2009_MNI_z.nii.gz. Skipping...\n"
     ]
    },
    {
     "name": "stderr",
     "output_type": "stream",
     "text": [
      "/data/project/cerebellum_ale/venv/lib/python3.11/site-packages/nilearn/reporting/_get_clusters_table.py:338: UserWarning: Attention: No clusters with stat higher than 0.0\n",
      "  warnings.warn(\n",
      "/data/project/cerebellum_ale/venv/lib/python3.11/site-packages/nilearn/reporting/_get_clusters_table.py:338: UserWarning: Attention: No clusters with stat higher than 0.0\n",
      "  warnings.warn(\n"
     ]
    },
    {
     "name": "stdout",
     "output_type": "stream",
     "text": [
      "File not found for /data/project/cerebellum_ale/output/SALE/Emotion/Emotion.Negative.Anxiety/corr_cluster_h-001_k-50_mask-D2009_MNI_z.nii.gz. Skipping...\n"
     ]
    },
    {
     "name": "stderr",
     "output_type": "stream",
     "text": [
      "/data/project/cerebellum_ale/venv/lib/python3.11/site-packages/nilearn/reporting/_get_clusters_table.py:338: UserWarning: Attention: No clusters with stat higher than 0.0\n",
      "  warnings.warn(\n",
      "/data/project/cerebellum_ale/venv/lib/python3.11/site-packages/nilearn/reporting/_get_clusters_table.py:338: UserWarning: Attention: No clusters with stat higher than 0.0\n",
      "  warnings.warn(\n",
      "/data/project/cerebellum_ale/venv/lib/python3.11/site-packages/nilearn/reporting/_get_clusters_table.py:338: UserWarning: Attention: No clusters with stat higher than 0.0\n",
      "  warnings.warn(\n",
      "/data/project/cerebellum_ale/venv/lib/python3.11/site-packages/nilearn/reporting/_get_clusters_table.py:338: UserWarning: Attention: No clusters with stat higher than 0.0\n",
      "  warnings.warn(\n",
      "/data/project/cerebellum_ale/venv/lib/python3.11/site-packages/nilearn/reporting/_get_clusters_table.py:338: UserWarning: Attention: No clusters with stat higher than 0.0\n",
      "  warnings.warn(\n"
     ]
    },
    {
     "name": "stdout",
     "output_type": "stream",
     "text": [
      "File not found for /data/project/cerebellum_ale/output/SALE/Emotion/Emotion.Valence/corr_cluster_h-001_k-50_mask-D2009_MNI_z.nii.gz. Skipping...\n",
      "File not found for /data/project/cerebellum_ale/output/SALE/Emotion/Emotion.Hunger/corr_cluster_h-001_k-50_mask-D2009_MNI_z.nii.gz. Skipping...\n",
      "File not found for /data/project/cerebellum_ale/output/SALE/Emotion/Emotion.RespirationRegulation/corr_cluster_h-001_k-50_mask-D2009_MNI_z.nii.gz. Skipping...\n",
      "File not found for /data/project/cerebellum_ale/output/SALE/Emotion/Emotion.Sexuality/corr_cluster_h-001_k-50_mask-D2009_MNI_z.nii.gz. Skipping...\n",
      "File not found for /data/project/cerebellum_ale/output/SALE/Emotion/Emotion.Audition/corr_cluster_h-001_k-50_mask-D2009_MNI_z.nii.gz. Skipping...\n",
      "File not found for /data/project/cerebellum_ale/output/SALE/Emotion/Emotion.Gustation/corr_cluster_h-001_k-50_mask-D2009_MNI_z.nii.gz. Skipping...\n",
      "File not found for /data/project/cerebellum_ale/output/SALE/Emotion/Emotion.Olfaction/corr_cluster_h-001_k-50_mask-D2009_MNI_z.nii.gz. Skipping...\n",
      "File not found for /data/project/cerebellum_ale/output/SALE/Emotion/Emotion.Somesthesis/corr_cluster_h-001_k-50_mask-D2009_MNI_z.nii.gz. Skipping...\n",
      "File not found for /data/project/cerebellum_ale/output/SALE/Emotion/Emotion.Somesthesis.Pain/corr_cluster_h-001_k-50_mask-D2009_MNI_z.nii.gz. Skipping...\n",
      "File not found for /data/project/cerebellum_ale/output/SALE/Emotion/Emotion.Vision/corr_cluster_h-001_k-50_mask-D2009_MNI_z.nii.gz. Skipping...\n",
      "File not found for /data/project/cerebellum_ale/output/SALE/Emotion/Emotion.Vision.Color/corr_cluster_h-001_k-50_mask-D2009_MNI_z.nii.gz. Skipping...\n",
      "File not found for /data/project/cerebellum_ale/output/SALE/Emotion/Emotion.Vision.Motion/corr_cluster_h-001_k-50_mask-D2009_MNI_z.nii.gz. Skipping...\n",
      "File not found for /data/project/cerebellum_ale/output/SALE/Emotion/Emotion.Vision.Shape/corr_cluster_h-001_k-50_mask-D2009_MNI_z.nii.gz. Skipping...\n",
      "File not found for /data/project/cerebellum_ale/output/SALE/Interoception/Interoception.Execution/corr_cluster_h-001_k-50_mask-D2009_MNI_z.nii.gz. Skipping...\n",
      "File not found for /data/project/cerebellum_ale/output/SALE/Interoception/Interoception.Execution.Speech/corr_cluster_h-001_k-50_mask-D2009_MNI_z.nii.gz. Skipping...\n",
      "File not found for /data/project/cerebellum_ale/output/SALE/Interoception/Interoception.Imagination/corr_cluster_h-001_k-50_mask-D2009_MNI_z.nii.gz. Skipping...\n",
      "File not found for /data/project/cerebellum_ale/output/SALE/Interoception/Interoception.Inhibition/corr_cluster_h-001_k-50_mask-D2009_MNI_z.nii.gz. Skipping...\n",
      "File not found for /data/project/cerebellum_ale/output/SALE/Interoception/Interoception.MotorLearning/corr_cluster_h-001_k-50_mask-D2009_MNI_z.nii.gz. Skipping...\n",
      "File not found for /data/project/cerebellum_ale/output/SALE/Interoception/Interoception.Observation/corr_cluster_h-001_k-50_mask-D2009_MNI_z.nii.gz. Skipping...\n",
      "File not found for /data/project/cerebellum_ale/output/SALE/Interoception/Interoception.Preparation/corr_cluster_h-001_k-50_mask-D2009_MNI_z.nii.gz. Skipping...\n",
      "File not found for /data/project/cerebellum_ale/output/SALE/Interoception/Interoception.Attention/corr_cluster_h-001_k-50_mask-D2009_MNI_z.nii.gz. Skipping...\n",
      "File not found for /data/project/cerebellum_ale/output/SALE/Interoception/Interoception.Language/corr_cluster_h-001_k-50_mask-D2009_MNI_z.nii.gz. Skipping...\n",
      "File not found for /data/project/cerebellum_ale/output/SALE/Interoception/Interoception.Language.Orthography/corr_cluster_h-001_k-50_mask-D2009_MNI_z.nii.gz. Skipping...\n",
      "File not found for /data/project/cerebellum_ale/output/SALE/Interoception/Interoception.Language.Phonology/corr_cluster_h-001_k-50_mask-D2009_MNI_z.nii.gz. Skipping...\n",
      "File not found for /data/project/cerebellum_ale/output/SALE/Interoception/Interoception.Language.Semantics/corr_cluster_h-001_k-50_mask-D2009_MNI_z.nii.gz. Skipping...\n",
      "File not found for /data/project/cerebellum_ale/output/SALE/Interoception/Interoception.Language.Speech/corr_cluster_h-001_k-50_mask-D2009_MNI_z.nii.gz. Skipping...\n",
      "File not found for /data/project/cerebellum_ale/output/SALE/Interoception/Interoception.Language.Syntax/corr_cluster_h-001_k-50_mask-D2009_MNI_z.nii.gz. Skipping...\n",
      "File not found for /data/project/cerebellum_ale/output/SALE/Interoception/Interoception.Memory/corr_cluster_h-001_k-50_mask-D2009_MNI_z.nii.gz. Skipping...\n",
      "File not found for /data/project/cerebellum_ale/output/SALE/Interoception/Interoception.Memory.Explicit/corr_cluster_h-001_k-50_mask-D2009_MNI_z.nii.gz. Skipping...\n",
      "File not found for /data/project/cerebellum_ale/output/SALE/Interoception/Interoception.Memory.Working/corr_cluster_h-001_k-50_mask-D2009_MNI_z.nii.gz. Skipping...\n",
      "File not found for /data/project/cerebellum_ale/output/SALE/Interoception/Interoception.Music/corr_cluster_h-001_k-50_mask-D2009_MNI_z.nii.gz. Skipping...\n",
      "File not found for /data/project/cerebellum_ale/output/SALE/Interoception/Interoception.Reasoning/corr_cluster_h-001_k-50_mask-D2009_MNI_z.nii.gz. Skipping...\n",
      "File not found for /data/project/cerebellum_ale/output/SALE/Interoception/Interoception.SocialCognition/corr_cluster_h-001_k-50_mask-D2009_MNI_z.nii.gz. Skipping...\n",
      "File not found for /data/project/cerebellum_ale/output/SALE/Interoception/Interoception.Spatial/corr_cluster_h-001_k-50_mask-D2009_MNI_z.nii.gz. Skipping...\n",
      "File not found for /data/project/cerebellum_ale/output/SALE/Interoception/Interoception.Temporal/corr_cluster_h-001_k-50_mask-D2009_MNI_z.nii.gz. Skipping...\n",
      "File not found for /data/project/cerebellum_ale/output/SALE/Interoception/Interoception.Negative/corr_cluster_h-001_k-50_mask-D2009_MNI_z.nii.gz. Skipping...\n",
      "File not found for /data/project/cerebellum_ale/output/SALE/Interoception/Interoception.Negative.Anger/corr_cluster_h-001_k-50_mask-D2009_MNI_z.nii.gz. Skipping...\n",
      "File not found for /data/project/cerebellum_ale/output/SALE/Interoception/Interoception.Negative.Anxiety/corr_cluster_h-001_k-50_mask-D2009_MNI_z.nii.gz. Skipping...\n",
      "File not found for /data/project/cerebellum_ale/output/SALE/Interoception/Interoception.Negative.Disgust/corr_cluster_h-001_k-50_mask-D2009_MNI_z.nii.gz. Skipping...\n",
      "File not found for /data/project/cerebellum_ale/output/SALE/Interoception/Interoception.Negative.Fear/corr_cluster_h-001_k-50_mask-D2009_MNI_z.nii.gz. Skipping...\n",
      "File not found for /data/project/cerebellum_ale/output/SALE/Interoception/Interoception.Negative.Sadness/corr_cluster_h-001_k-50_mask-D2009_MNI_z.nii.gz. Skipping...\n",
      "File not found for /data/project/cerebellum_ale/output/SALE/Interoception/Interoception.Positive/corr_cluster_h-001_k-50_mask-D2009_MNI_z.nii.gz. Skipping...\n",
      "File not found for /data/project/cerebellum_ale/output/SALE/Interoception/Interoception.Positive.Happiness/corr_cluster_h-001_k-50_mask-D2009_MNI_z.nii.gz. Skipping...\n",
      "File not found for /data/project/cerebellum_ale/output/SALE/Interoception/Interoception.Positive.RewardGain/corr_cluster_h-001_k-50_mask-D2009_MNI_z.nii.gz. Skipping...\n",
      "File not found for /data/project/cerebellum_ale/output/SALE/Interoception/Interoception.Valence/corr_cluster_h-001_k-50_mask-D2009_MNI_z.nii.gz. Skipping...\n",
      "File not found for /data/project/cerebellum_ale/output/SALE/Interoception/Interoception.Hunger/corr_cluster_h-001_k-50_mask-D2009_MNI_z.nii.gz. Skipping...\n",
      "File not found for /data/project/cerebellum_ale/output/SALE/Interoception/Interoception.RespirationRegulation/corr_cluster_h-001_k-50_mask-D2009_MNI_z.nii.gz. Skipping...\n"
     ]
    },
    {
     "name": "stderr",
     "output_type": "stream",
     "text": [
      "/data/project/cerebellum_ale/venv/lib/python3.11/site-packages/nilearn/reporting/_get_clusters_table.py:338: UserWarning: Attention: No clusters with stat higher than 0.0\n",
      "  warnings.warn(\n"
     ]
    },
    {
     "name": "stdout",
     "output_type": "stream",
     "text": [
      "File not found for /data/project/cerebellum_ale/output/SALE/Interoception/Interoception.Audition/corr_cluster_h-001_k-50_mask-D2009_MNI_z.nii.gz. Skipping...\n",
      "File not found for /data/project/cerebellum_ale/output/SALE/Interoception/Interoception.Gustation/corr_cluster_h-001_k-50_mask-D2009_MNI_z.nii.gz. Skipping...\n",
      "File not found for /data/project/cerebellum_ale/output/SALE/Interoception/Interoception.Olfaction/corr_cluster_h-001_k-50_mask-D2009_MNI_z.nii.gz. Skipping...\n",
      "File not found for /data/project/cerebellum_ale/output/SALE/Interoception/Interoception.Somesthesis/corr_cluster_h-001_k-50_mask-D2009_MNI_z.nii.gz. Skipping...\n",
      "File not found for /data/project/cerebellum_ale/output/SALE/Interoception/Interoception.Somesthesis.Pain/corr_cluster_h-001_k-50_mask-D2009_MNI_z.nii.gz. Skipping...\n",
      "File not found for /data/project/cerebellum_ale/output/SALE/Interoception/Interoception.Vision/corr_cluster_h-001_k-50_mask-D2009_MNI_z.nii.gz. Skipping...\n",
      "File not found for /data/project/cerebellum_ale/output/SALE/Interoception/Interoception.Vision.Color/corr_cluster_h-001_k-50_mask-D2009_MNI_z.nii.gz. Skipping...\n",
      "File not found for /data/project/cerebellum_ale/output/SALE/Interoception/Interoception.Vision.Motion/corr_cluster_h-001_k-50_mask-D2009_MNI_z.nii.gz. Skipping...\n",
      "File not found for /data/project/cerebellum_ale/output/SALE/Interoception/Interoception.Vision.Shape/corr_cluster_h-001_k-50_mask-D2009_MNI_z.nii.gz. Skipping...\n",
      "File not found for /data/project/cerebellum_ale/output/SALE/Perception/Perception.Execution/corr_cluster_h-001_k-50_mask-D2009_MNI_z.nii.gz. Skipping...\n",
      "File not found for /data/project/cerebellum_ale/output/SALE/Perception/Perception.Execution.Speech/corr_cluster_h-001_k-50_mask-D2009_MNI_z.nii.gz. Skipping...\n",
      "File not found for /data/project/cerebellum_ale/output/SALE/Perception/Perception.Imagination/corr_cluster_h-001_k-50_mask-D2009_MNI_z.nii.gz. Skipping...\n",
      "File not found for /data/project/cerebellum_ale/output/SALE/Perception/Perception.Inhibition/corr_cluster_h-001_k-50_mask-D2009_MNI_z.nii.gz. Skipping...\n",
      "File not found for /data/project/cerebellum_ale/output/SALE/Perception/Perception.MotorLearning/corr_cluster_h-001_k-50_mask-D2009_MNI_z.nii.gz. Skipping...\n",
      "File not found for /data/project/cerebellum_ale/output/SALE/Perception/Perception.Observation/corr_cluster_h-001_k-50_mask-D2009_MNI_z.nii.gz. Skipping...\n",
      "File not found for /data/project/cerebellum_ale/output/SALE/Perception/Perception.Preparation/corr_cluster_h-001_k-50_mask-D2009_MNI_z.nii.gz. Skipping...\n",
      "File not found for /data/project/cerebellum_ale/output/SALE/Perception/Perception.Attention/corr_cluster_h-001_k-50_mask-D2009_MNI_z.nii.gz. Skipping...\n",
      "File not found for /data/project/cerebellum_ale/output/SALE/Perception/Perception.Language/corr_cluster_h-001_k-50_mask-D2009_MNI_z.nii.gz. Skipping...\n",
      "File not found for /data/project/cerebellum_ale/output/SALE/Perception/Perception.Language.Orthography/corr_cluster_h-001_k-50_mask-D2009_MNI_z.nii.gz. Skipping...\n",
      "File not found for /data/project/cerebellum_ale/output/SALE/Perception/Perception.Language.Phonology/corr_cluster_h-001_k-50_mask-D2009_MNI_z.nii.gz. Skipping...\n",
      "File not found for /data/project/cerebellum_ale/output/SALE/Perception/Perception.Language.Semantics/corr_cluster_h-001_k-50_mask-D2009_MNI_z.nii.gz. Skipping...\n",
      "File not found for /data/project/cerebellum_ale/output/SALE/Perception/Perception.Language.Speech/corr_cluster_h-001_k-50_mask-D2009_MNI_z.nii.gz. Skipping...\n",
      "File not found for /data/project/cerebellum_ale/output/SALE/Perception/Perception.Language.Syntax/corr_cluster_h-001_k-50_mask-D2009_MNI_z.nii.gz. Skipping...\n",
      "File not found for /data/project/cerebellum_ale/output/SALE/Perception/Perception.Memory/corr_cluster_h-001_k-50_mask-D2009_MNI_z.nii.gz. Skipping...\n",
      "File not found for /data/project/cerebellum_ale/output/SALE/Perception/Perception.Memory.Explicit/corr_cluster_h-001_k-50_mask-D2009_MNI_z.nii.gz. Skipping...\n",
      "File not found for /data/project/cerebellum_ale/output/SALE/Perception/Perception.Memory.Working/corr_cluster_h-001_k-50_mask-D2009_MNI_z.nii.gz. Skipping...\n",
      "File not found for /data/project/cerebellum_ale/output/SALE/Perception/Perception.Music/corr_cluster_h-001_k-50_mask-D2009_MNI_z.nii.gz. Skipping...\n",
      "File not found for /data/project/cerebellum_ale/output/SALE/Perception/Perception.Reasoning/corr_cluster_h-001_k-50_mask-D2009_MNI_z.nii.gz. Skipping...\n",
      "File not found for /data/project/cerebellum_ale/output/SALE/Perception/Perception.SocialCognition/corr_cluster_h-001_k-50_mask-D2009_MNI_z.nii.gz. Skipping...\n",
      "File not found for /data/project/cerebellum_ale/output/SALE/Perception/Perception.Spatial/corr_cluster_h-001_k-50_mask-D2009_MNI_z.nii.gz. Skipping...\n",
      "File not found for /data/project/cerebellum_ale/output/SALE/Perception/Perception.Temporal/corr_cluster_h-001_k-50_mask-D2009_MNI_z.nii.gz. Skipping...\n",
      "File not found for /data/project/cerebellum_ale/output/SALE/Perception/Perception.Negative/corr_cluster_h-001_k-50_mask-D2009_MNI_z.nii.gz. Skipping...\n",
      "File not found for /data/project/cerebellum_ale/output/SALE/Perception/Perception.Negative.Anger/corr_cluster_h-001_k-50_mask-D2009_MNI_z.nii.gz. Skipping...\n",
      "File not found for /data/project/cerebellum_ale/output/SALE/Perception/Perception.Negative.Anxiety/corr_cluster_h-001_k-50_mask-D2009_MNI_z.nii.gz. Skipping...\n",
      "File not found for /data/project/cerebellum_ale/output/SALE/Perception/Perception.Negative.Disgust/corr_cluster_h-001_k-50_mask-D2009_MNI_z.nii.gz. Skipping...\n",
      "File not found for /data/project/cerebellum_ale/output/SALE/Perception/Perception.Negative.Fear/corr_cluster_h-001_k-50_mask-D2009_MNI_z.nii.gz. Skipping...\n",
      "File not found for /data/project/cerebellum_ale/output/SALE/Perception/Perception.Negative.Sadness/corr_cluster_h-001_k-50_mask-D2009_MNI_z.nii.gz. Skipping...\n",
      "File not found for /data/project/cerebellum_ale/output/SALE/Perception/Perception.Positive/corr_cluster_h-001_k-50_mask-D2009_MNI_z.nii.gz. Skipping...\n",
      "File not found for /data/project/cerebellum_ale/output/SALE/Perception/Perception.Positive.Happiness/corr_cluster_h-001_k-50_mask-D2009_MNI_z.nii.gz. Skipping...\n",
      "File not found for /data/project/cerebellum_ale/output/SALE/Perception/Perception.Positive.RewardGain/corr_cluster_h-001_k-50_mask-D2009_MNI_z.nii.gz. Skipping...\n",
      "File not found for /data/project/cerebellum_ale/output/SALE/Perception/Perception.Valence/corr_cluster_h-001_k-50_mask-D2009_MNI_z.nii.gz. Skipping...\n",
      "File not found for /data/project/cerebellum_ale/output/SALE/Perception/Perception.Hunger/corr_cluster_h-001_k-50_mask-D2009_MNI_z.nii.gz. Skipping...\n",
      "File not found for /data/project/cerebellum_ale/output/SALE/Perception/Perception.RespirationRegulation/corr_cluster_h-001_k-50_mask-D2009_MNI_z.nii.gz. Skipping...\n",
      "File not found for /data/project/cerebellum_ale/output/SALE/Perception/Perception.Sexuality/corr_cluster_h-001_k-50_mask-D2009_MNI_z.nii.gz. Skipping...\n"
     ]
    },
    {
     "name": "stderr",
     "output_type": "stream",
     "text": [
      "/data/project/cerebellum_ale/venv/lib/python3.11/site-packages/nilearn/reporting/_get_clusters_table.py:338: UserWarning: Attention: No clusters with stat higher than 0.0\n",
      "  warnings.warn(\n"
     ]
    },
    {
     "name": "stdout",
     "output_type": "stream",
     "text": [
      "File not found for /data/project/cerebellum_ale/output/SALE/Perception/Perception.Gustation/corr_cluster_h-001_k-50_mask-D2009_MNI_z.nii.gz. Skipping...\n"
     ]
    },
    {
     "name": "stderr",
     "output_type": "stream",
     "text": [
      "/data/project/cerebellum_ale/venv/lib/python3.11/site-packages/nilearn/reporting/_get_clusters_table.py:338: UserWarning: Attention: No clusters with stat higher than 0.0\n",
      "  warnings.warn(\n",
      "/data/project/cerebellum_ale/venv/lib/python3.11/site-packages/nilearn/reporting/_get_clusters_table.py:338: UserWarning: Attention: No clusters with stat higher than 0.0\n",
      "  warnings.warn(\n",
      "/data/project/cerebellum_ale/venv/lib/python3.11/site-packages/nilearn/reporting/_get_clusters_table.py:338: UserWarning: Attention: No clusters with stat higher than 0.0\n",
      "  warnings.warn(\n"
     ]
    }
   ],
   "source": [
    "# Create dictionaries to store variables\n",
    "meta_result = {}\n",
    "z_map = {}\n",
    "clusters_table = {}\n",
    "\n",
    "# Define domains, subdomains, and granularities (what level are we considering). One can also add activation/ deactiovation or specific tasks as an additionaly granularities.\n",
    "domains = ['Action', 'Cognition', 'Emotion', 'Interoception', 'Perception']\n",
    "subdomains = [\n",
    "    'Execution', 'Execution.Speech', 'Imagination', 'Inhibition', 'MotorLearning', 'Observation', 'Preparation',\n",
    "    'Attention', 'Language', 'Language.Orthography', 'Language.Phonology', 'Language.Semantics', 'Language.Speech',\n",
    "    'Language.Syntax', 'Memory', 'Memory.Explicit', 'Memory.Working', 'Music', 'Reasoning', 'SocialCognition',\n",
    "    'Spatial', 'Temporal', 'Negative', 'Negative.Anger', 'Negative.Anxiety', 'Negative.Disgust', 'Negative.Fear',\n",
    "    'Negative.Sadness', 'Positive', 'Positive.Happiness', 'Positive.RewardGain', 'Valence', 'Hunger',\n",
    "    'RespirationRegulation', 'Sexuality', 'Audition', 'Gustation', 'Olfaction', 'Somesthesis', 'Somesthesis.Pain',\n",
    "    'Vision', 'Vision.Color', 'Vision.Motion', 'Vision.Shape'\n",
    "]\n",
    "granularities = ['domain', 'subdomain']\n",
    "\n",
    "RESULTS_FILE = os.path.join(OUTPUT_DIR, 'C-SALE_clusters-merged.txt') # Decide how you want to name the file.\n",
    "\n",
    "# Create the results file\n",
    "with open(RESULTS_FILE, 'w') as f:\n",
    "    f.write(\"Cerebellar C-SALE Clusters - Peak Coordinates, Cluster Sizes, and Metadata\\n\\n\")\n",
    "    \n",
    "# Loop through domains and granularities to process the Z-maps\n",
    "for granularity in granularities:\n",
    "    if (granularity == 'domain'):\n",
    "        for domain in domains:\n",
    "            # Define paths for different types of domain-level maps\n",
    "            nii_path = os.path.join(OUTPUT_DIR, 'SALE', f'{domain}', f'{domain}', 'corr_cluster_h-001_k-50_mask-D2009_MNI_z.nii.gz')\n",
    "            label = f' Behavioral Domain: {domain}'\n",
    "            # Load and extract clusters\n",
    "            try:\n",
    "                load_and_extract_clusters(nii_path, label, exp_stats_CSALE)\n",
    "            except FileNotFoundError:\n",
    "                print(f\"File not found for {nii_path}. Skipping...\") # Print statement for non-existing BD-level results. Verify that only results without thresholded clusters are omitted.\n",
    "    else:\n",
    "        for domain in domains:\n",
    "            for subdomain in subdomains:\n",
    "                # Define paths for different types of domain-level maps\n",
    "                nii_path = os.path.join(OUTPUT_DIR, 'SALE', f'{domain}', f'{domain}.{subdomain}', 'corr_cluster_h-001_k-50_mask-D2009_MNI_z.nii.gz')\n",
    "                label = f'Behavioral Subdomain: {domain}.{subdomain}'\n",
    "                # Load and extract clusters\n",
    "                try:\n",
    "                    load_and_extract_clusters(nii_path, label, exp_stats_CSALE)\n",
    "                except FileNotFoundError:\n",
    "                    print(f\"File not found for {nii_path}. Skipping...\") # Print statements are added for non-existing subdomain-level results. Note that this may produce a long list of non-existent BD-subdomain combinations.\n",
    "\n",
    "# Verify the contents of the RESULTS_FILE. They should now include clusters, cluster sizes, peak coordinates, and experiment/ foci/ participamnts numbers for all your domains/ subdomains that have clusters. \n"
   ]
  },
  {
   "cell_type": "markdown",
   "id": "41b861aa-3efd-4d9e-8496-60d822de91ad",
   "metadata": {},
   "source": [
    "# Save the MACM Cluster Metadata to file."
   ]
  },
  {
   "cell_type": "code",
   "execution_count": 31,
   "id": "36b04b8c-e529-4971-9a8b-fe92c5986669",
   "metadata": {},
   "outputs": [
    {
     "name": "stdout",
     "output_type": "stream",
     "text": [
      "                     subbd  n_exp  n_foci  n_subs\n",
      "0                   Action    197    3954    2656\n",
      "1         Action.Execution    251    5195    3451\n",
      "2  Action.Execution.Speech     80    1638    1096\n",
      "3       Action.Observation      6      91      92\n",
      "4       Cognition.Language      9     200     124\n"
     ]
    }
   ],
   "source": [
    "# Load the CSV data\n",
    "exp_stats_MACM = pd.read_csv(os.path.join(OUTPUT_DIR, 'macm_exp_stats_from_json_240814.csv'))\n",
    "\n",
    "# Optional: If needed, preview the loaded data\n",
    "print(exp_stats_MACM.head())"
   ]
  },
  {
   "cell_type": "code",
   "execution_count": 35,
   "id": "b34c245f-45bf-4cfd-93f1-8c96f86f9ca6",
   "metadata": {},
   "outputs": [
    {
     "data": {
      "text/plain": [
       "['Action',\n",
       " 'Action.Execution',\n",
       " 'Action.Execution.Speech',\n",
       " 'Action.Observation',\n",
       " 'Cognition.Language',\n",
       " 'Cognition.Memory.Working',\n",
       " 'Cognition.SocialCognition',\n",
       " 'Emotion.Negative.Sadness',\n",
       " 'Perception.Somesthesis',\n",
       " 'Perception.Vision',\n",
       " 'Perception.Vision.Motion',\n",
       " 'Perception.Vision.Shape']"
      ]
     },
     "execution_count": 35,
     "metadata": {},
     "output_type": "execute_result"
    }
   ],
   "source": [
    "# Extract the labels directly from the exp_stats_df\n",
    "combined_labels_MACM = exp_stats_MACM['subbd'].tolist()\n",
    "combined_labels_MACM"
   ]
  },
  {
   "cell_type": "code",
   "execution_count": 39,
   "id": "e7da7efd-da91-42d8-908d-22365ebbc673",
   "metadata": {},
   "outputs": [],
   "source": [
    "# Define the list of valid subdomains\n",
    "valid_MACMs = ['Execution', \n",
    "               'Execution.Speech', \n",
    "               'Memory.Working', \n",
    "               'Vision']\n",
    "# Note that we have to use these labels or get invalid N < 15 Experiments in MACM-analyses results in our table too!"
   ]
  },
  {
   "cell_type": "code",
   "execution_count": 40,
   "id": "83a93c9f-7f49-4e16-8bbe-043c62cd1c02",
   "metadata": {
    "scrolled": true
   },
   "outputs": [
    {
     "name": "stderr",
     "output_type": "stream",
     "text": [
      "/data/project/cerebellum_ale/venv/lib/python3.11/site-packages/nilearn/reporting/_get_clusters_table.py:103: UserWarning: Attention: At least one of the (sub)peaks falls outside of the cluster body. Identifying the nearest in-cluster voxel.\n",
      "  warnings.warn(\n"
     ]
    },
    {
     "name": "stdout",
     "output_type": "stream",
     "text": [
      "File not found for /data/project/cerebellum_ale/output/SALE/Cognition/Cognition/corr_cluster_h-001_k-50_mask-D2009_MNI_z_macm/corr_cluster_k-50_z.nii.gz. Skipping...\n",
      "File not found for /data/project/cerebellum_ale/output/SALE/Emotion/Emotion/corr_cluster_h-001_k-50_mask-D2009_MNI_z_macm/corr_cluster_k-50_z.nii.gz. Skipping...\n",
      "File not found for /data/project/cerebellum_ale/output/SALE/Perception/Perception/corr_cluster_h-001_k-50_mask-D2009_MNI_z_macm/corr_cluster_k-50_z.nii.gz. Skipping...\n",
      "File not found for /data/project/cerebellum_ale/output/SALE/Interoception/Interoception/corr_cluster_h-001_k-50_mask-D2009_MNI_z_macm/corr_cluster_k-50_z.nii.gz. Skipping...\n"
     ]
    },
    {
     "name": "stderr",
     "output_type": "stream",
     "text": [
      "/data/project/cerebellum_ale/venv/lib/python3.11/site-packages/nilearn/reporting/_get_clusters_table.py:103: UserWarning: Attention: At least one of the (sub)peaks falls outside of the cluster body. Identifying the nearest in-cluster voxel.\n",
      "  warnings.warn(\n",
      "/data/project/cerebellum_ale/venv/lib/python3.11/site-packages/nilearn/reporting/_get_clusters_table.py:103: UserWarning: Attention: At least one of the (sub)peaks falls outside of the cluster body. Identifying the nearest in-cluster voxel.\n",
      "  warnings.warn(\n"
     ]
    },
    {
     "name": "stdout",
     "output_type": "stream",
     "text": [
      "File not found for /data/project/cerebellum_ale/output/SALE/Action/Action.Memory.Working/corr_cluster_h-001_k-50_mask-D2009_MNI_z_macm/corr_cluster_k-50_z.nii.gz. Skipping...\n",
      "File not found for /data/project/cerebellum_ale/output/SALE/Action/Action.Vision/corr_cluster_h-001_k-50_mask-D2009_MNI_z_macm/corr_cluster_k-50_z.nii.gz. Skipping...\n",
      "File not found for /data/project/cerebellum_ale/output/SALE/Cognition/Cognition.Execution/corr_cluster_h-001_k-50_mask-D2009_MNI_z_macm/corr_cluster_k-50_z.nii.gz. Skipping...\n",
      "File not found for /data/project/cerebellum_ale/output/SALE/Cognition/Cognition.Execution.Speech/corr_cluster_h-001_k-50_mask-D2009_MNI_z_macm/corr_cluster_k-50_z.nii.gz. Skipping...\n"
     ]
    },
    {
     "name": "stderr",
     "output_type": "stream",
     "text": [
      "/data/project/cerebellum_ale/venv/lib/python3.11/site-packages/nilearn/reporting/_get_clusters_table.py:103: UserWarning: Attention: At least one of the (sub)peaks falls outside of the cluster body. Identifying the nearest in-cluster voxel.\n",
      "  warnings.warn(\n"
     ]
    },
    {
     "name": "stdout",
     "output_type": "stream",
     "text": [
      "File not found for /data/project/cerebellum_ale/output/SALE/Cognition/Cognition.Vision/corr_cluster_h-001_k-50_mask-D2009_MNI_z_macm/corr_cluster_k-50_z.nii.gz. Skipping...\n",
      "File not found for /data/project/cerebellum_ale/output/SALE/Emotion/Emotion.Execution/corr_cluster_h-001_k-50_mask-D2009_MNI_z_macm/corr_cluster_k-50_z.nii.gz. Skipping...\n",
      "File not found for /data/project/cerebellum_ale/output/SALE/Emotion/Emotion.Execution.Speech/corr_cluster_h-001_k-50_mask-D2009_MNI_z_macm/corr_cluster_k-50_z.nii.gz. Skipping...\n",
      "File not found for /data/project/cerebellum_ale/output/SALE/Emotion/Emotion.Memory.Working/corr_cluster_h-001_k-50_mask-D2009_MNI_z_macm/corr_cluster_k-50_z.nii.gz. Skipping...\n",
      "File not found for /data/project/cerebellum_ale/output/SALE/Emotion/Emotion.Vision/corr_cluster_h-001_k-50_mask-D2009_MNI_z_macm/corr_cluster_k-50_z.nii.gz. Skipping...\n",
      "File not found for /data/project/cerebellum_ale/output/SALE/Perception/Perception.Execution/corr_cluster_h-001_k-50_mask-D2009_MNI_z_macm/corr_cluster_k-50_z.nii.gz. Skipping...\n",
      "File not found for /data/project/cerebellum_ale/output/SALE/Perception/Perception.Execution.Speech/corr_cluster_h-001_k-50_mask-D2009_MNI_z_macm/corr_cluster_k-50_z.nii.gz. Skipping...\n",
      "File not found for /data/project/cerebellum_ale/output/SALE/Perception/Perception.Memory.Working/corr_cluster_h-001_k-50_mask-D2009_MNI_z_macm/corr_cluster_k-50_z.nii.gz. Skipping...\n"
     ]
    },
    {
     "name": "stderr",
     "output_type": "stream",
     "text": [
      "/data/project/cerebellum_ale/venv/lib/python3.11/site-packages/nilearn/reporting/_get_clusters_table.py:103: UserWarning: Attention: At least one of the (sub)peaks falls outside of the cluster body. Identifying the nearest in-cluster voxel.\n",
      "  warnings.warn(\n"
     ]
    },
    {
     "name": "stdout",
     "output_type": "stream",
     "text": [
      "File not found for /data/project/cerebellum_ale/output/SALE/Interoception/Interoception.Execution/corr_cluster_h-001_k-50_mask-D2009_MNI_z_macm/corr_cluster_k-50_z.nii.gz. Skipping...\n",
      "File not found for /data/project/cerebellum_ale/output/SALE/Interoception/Interoception.Execution.Speech/corr_cluster_h-001_k-50_mask-D2009_MNI_z_macm/corr_cluster_k-50_z.nii.gz. Skipping...\n",
      "File not found for /data/project/cerebellum_ale/output/SALE/Interoception/Interoception.Memory.Working/corr_cluster_h-001_k-50_mask-D2009_MNI_z_macm/corr_cluster_k-50_z.nii.gz. Skipping...\n",
      "File not found for /data/project/cerebellum_ale/output/SALE/Interoception/Interoception.Vision/corr_cluster_h-001_k-50_mask-D2009_MNI_z_macm/corr_cluster_k-50_z.nii.gz. Skipping...\n"
     ]
    }
   ],
   "source": [
    "# Create dictionaries\n",
    "macm_meta_result = {}\n",
    "macm_z_map = {}\n",
    "macm_clusters_table = {}\n",
    "\n",
    "# Define domains and granularities\n",
    "domains = ['Action', 'Cognition', 'Emotion', 'Perception', 'Interoception']\n",
    "subdomains = [\n",
    "    'Execution', 'Execution.Speech', 'Imagination', 'Inhibition', 'MotorLearning', 'Observation', 'Preparation',\n",
    "    'Attention', 'Language', 'Language.Orthography', 'Language.Phonology', 'Language.Semantics', 'Language.Speech',\n",
    "    'Language.Syntax', 'Memory', 'Memory.Explicit', 'Memory.Working', 'Music', 'Reasoning', 'SocialCognition',\n",
    "    'Spatial', 'Temporal', 'Negative', 'Negative.Anger', 'Negative.Anxiety', 'Negative.Disgust', 'Negative.Fear',\n",
    "    'Negative.Sadness', 'Positive', 'Positive.Happiness', 'Positive.RewardGain', 'Valence', 'Hunger',\n",
    "    'RespirationRegulation', 'Sexuality', 'Audition', 'Gustation', 'Olfaction', 'Somesthesis', 'Somesthesis.Pain',\n",
    "    'Vision', 'Vision.Color', 'Vision.Motion', 'Vision.Shape'\n",
    "]\n",
    "granularities = ['domain', 'subdomain']\n",
    "\n",
    "RESULTS_FILE = os.path.join(OUTPUT_DIR,'MACM_clusters-merged.txt') # Decide how you want to name the file.\n",
    "\n",
    "# Clear the results file\n",
    "with open(RESULTS_FILE, 'w') as f:\n",
    "    f.write(\"Whole Brain MACM Clusters - Peak Coordinates, Cluster Sizes, and Metadata\\n\\n\")\n",
    "    \n",
    "# Loop through domains and granularities to process the Z-maps\n",
    "for granularity in granularities:\n",
    "    if (granularity == 'domain'):\n",
    "        for domain in domains:\n",
    "            # Define paths for different types of domain-level maps\n",
    "            nii_path = os.path.join(OUTPUT_DIR, 'SALE', f'{domain}', f'{domain}', 'corr_cluster_h-001_k-50_mask-D2009_MNI_z_macm/corr_cluster_k-50_z.nii.gz')\n",
    "            \n",
    "            label = f'Behavioral Domain: {domain}'\n",
    "            # Load and extract clusters\n",
    "            try:\n",
    "                load_and_extract_clusters(nii_path, label, exp_stats_MACM)\n",
    "            except FileNotFoundError:\n",
    "                print(f\"File not found for {nii_path}. Skipping...\") # Print statements for non-existing BD-level results. Verify that only results without thresholded clusters are omitted.\n",
    "    else:\n",
    "        for domain in domains:\n",
    "            for subdomain in valid_MACMs:\n",
    "                # Define paths for different types of domain-level maps\n",
    "                nii_path = os.path.join(OUTPUT_DIR, 'SALE', f'{domain}', f'{domain}.{subdomain}', 'corr_cluster_h-001_k-50_mask-D2009_MNI_z_macm/corr_cluster_k-50_z.nii.gz')\n",
    "                label = f'Behavioral Subdomain: {domain}.{subdomain}'\n",
    "                # Load and extract clusters\n",
    "                try:\n",
    "                    load_and_extract_clusters(nii_path, label, exp_stats_MACM)\n",
    "                except FileNotFoundError:\n",
    "                    print(f\"File not found for {nii_path}. Skipping...\") # Print statements for non-existing subdomain-level results. Note that this may produce a long list of non-existent BD-subdomain combinations.\n",
    "\n",
    "# Verify the contents of the RESULTS_FILE. They should now include clusters, cluster sizes, peak coordinates, and experiment/ foci/ participamnts numbers for all your domains/ subdomains that have clusters. \n"
   ]
  },
  {
   "cell_type": "markdown",
   "id": "0b1be47b-79f7-42dc-a8ab-e8c9d659abfd",
   "metadata": {},
   "source": [
    "# The End."
   ]
  }
 ],
 "metadata": {
  "kernelspec": {
   "display_name": "Python 3 (ipykernel)",
   "language": "python",
   "name": "python3"
  },
  "language_info": {
   "codemirror_mode": {
    "name": "ipython",
    "version": 3
   },
   "file_extension": ".py",
   "mimetype": "text/x-python",
   "name": "python",
   "nbconvert_exporter": "python",
   "pygments_lexer": "ipython3",
   "version": "3.11.4"
  }
 },
 "nbformat": 4,
 "nbformat_minor": 5
}
